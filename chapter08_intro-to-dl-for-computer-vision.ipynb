{
  "cells": [
    {
      "cell_type": "markdown",
      "metadata": {
        "id": "wozxk6QEEI4Q"
      },
      "source": [
        "This is a companion notebook for the book [Deep Learning with Python, Second Edition](https://www.manning.com/books/deep-learning-with-python-second-edition?a_aid=keras&a_bid=76564dff). For readability, it only contains runnable code blocks and section titles, and omits everything else in the book: text paragraphs, figures, and pseudocode.\n",
        "\n",
        "**If you want to be able to follow what's going on, I recommend reading the notebook side by side with your copy of the book.**\n",
        "\n",
        "This notebook was generated for TensorFlow 2.6."
      ]
    },
    {
      "cell_type": "markdown",
      "metadata": {
        "id": "O8KI-8erEI4W"
      },
      "source": [
        "# Introduction to deep learning for computer vision"
      ]
    },
    {
      "cell_type": "markdown",
      "metadata": {
        "id": "e7p2OfIAEI4X"
      },
      "source": [
        "## Introduction to convnets"
      ]
    },
    {
      "cell_type": "markdown",
      "metadata": {
        "id": "rsry0p45EI4X"
      },
      "source": [
        "**Instantiating a small convnet**"
      ]
    },
    {
      "cell_type": "code",
      "execution_count": 14,
      "metadata": {
        "id": "7FNobmFaEI4Y"
      },
      "outputs": [],
      "source": [
        "from tensorflow import keras\n",
        "from tensorflow.keras import layers\n",
        "inputs = keras.Input(shape=(28, 28, 1))\n",
        "x = layers.Conv2D(filters=32, kernel_size=3, activation=\"relu\")(inputs)\n",
        "x = layers.MaxPooling2D(pool_size=2)(x)\n",
        "x = layers.Conv2D(filters=64, kernel_size=3, activation=\"relu\")(x)\n",
        "x = layers.MaxPooling2D(pool_size=2)(x)\n",
        "x = layers.Conv2D(filters=128, kernel_size=3, activation=\"relu\")(x)\n",
        "x = layers.Flatten()(x)\n",
        "outputs = layers.Dense(10, activation=\"softmax\")(x)\n",
        "model = keras.Model(inputs=inputs, outputs=outputs)"
      ]
    },
    {
      "cell_type": "markdown",
      "metadata": {
        "id": "vdhQrmeiEI4Z"
      },
      "source": [
        "**Displaying the model's summary**"
      ]
    },
    {
      "cell_type": "code",
      "execution_count": 2,
      "metadata": {
        "colab": {
          "base_uri": "https://localhost:8080/"
        },
        "id": "QxLvVpbzEI4a",
        "outputId": "1a1af77d-942d-4d71-ffe8-361823d2aea0"
      },
      "outputs": [
        {
          "output_type": "stream",
          "name": "stdout",
          "text": [
            "Model: \"model\"\n",
            "_________________________________________________________________\n",
            " Layer (type)                Output Shape              Param #   \n",
            "=================================================================\n",
            " input_1 (InputLayer)        [(None, 28, 28, 1)]       0         \n",
            "                                                                 \n",
            " conv2d (Conv2D)             (None, 26, 26, 32)        320       \n",
            "                                                                 \n",
            " max_pooling2d (MaxPooling2D  (None, 13, 13, 32)       0         \n",
            " )                                                               \n",
            "                                                                 \n",
            " conv2d_1 (Conv2D)           (None, 11, 11, 64)        18496     \n",
            "                                                                 \n",
            " max_pooling2d_1 (MaxPooling  (None, 5, 5, 64)         0         \n",
            " 2D)                                                             \n",
            "                                                                 \n",
            " conv2d_2 (Conv2D)           (None, 3, 3, 128)         73856     \n",
            "                                                                 \n",
            " flatten (Flatten)           (None, 1152)              0         \n",
            "                                                                 \n",
            " dense (Dense)               (None, 10)                11530     \n",
            "                                                                 \n",
            "=================================================================\n",
            "Total params: 104,202\n",
            "Trainable params: 104,202\n",
            "Non-trainable params: 0\n",
            "_________________________________________________________________\n"
          ]
        }
      ],
      "source": [
        "model.summary()"
      ]
    },
    {
      "cell_type": "markdown",
      "metadata": {
        "id": "QoiYHzRcEI4a"
      },
      "source": [
        "**Training the convnet on MNIST images**"
      ]
    },
    {
      "cell_type": "code",
      "execution_count": 15,
      "metadata": {
        "colab": {
          "base_uri": "https://localhost:8080/"
        },
        "id": "nKOqLP4BEI4b",
        "outputId": "f3b92df8-ba93-42e7-af4f-b2e3923d5742"
      },
      "outputs": [
        {
          "output_type": "stream",
          "name": "stdout",
          "text": [
            "Epoch 1/5\n",
            "938/938 [==============================] - 4s 4ms/step - loss: 0.1575 - accuracy: 0.9504\n",
            "Epoch 2/5\n",
            "938/938 [==============================] - 3s 4ms/step - loss: 0.0436 - accuracy: 0.9866\n",
            "Epoch 3/5\n",
            "938/938 [==============================] - 3s 4ms/step - loss: 0.0296 - accuracy: 0.9905\n",
            "Epoch 4/5\n",
            "938/938 [==============================] - 3s 4ms/step - loss: 0.0230 - accuracy: 0.9934\n",
            "Epoch 5/5\n",
            "938/938 [==============================] - 3s 4ms/step - loss: 0.0176 - accuracy: 0.9951\n"
          ]
        },
        {
          "output_type": "execute_result",
          "data": {
            "text/plain": [
              "<keras.callbacks.History at 0x7f47c7fe3790>"
            ]
          },
          "metadata": {},
          "execution_count": 15
        }
      ],
      "source": [
        "from tensorflow.keras.datasets import mnist\n",
        "\n",
        "(train_images, train_labels), (test_images, test_labels) = mnist.load_data()\n",
        "train_images = train_images.reshape((60000, 28, 28, 1))\n",
        "train_images = train_images.astype(\"float32\") / 255\n",
        "test_images = test_images.reshape((10000, 28, 28, 1))\n",
        "test_images = test_images.astype(\"float32\") / 255\n",
        "model.compile(optimizer=\"rmsprop\",\n",
        "    loss=\"sparse_categorical_crossentropy\",\n",
        "    metrics=[\"accuracy\"])\n",
        "model.fit(train_images, train_labels, epochs=5, batch_size=64)"
      ]
    },
    {
      "cell_type": "markdown",
      "metadata": {
        "id": "A-lAg-gCEI4c"
      },
      "source": [
        "**Evaluating the convnet**"
      ]
    },
    {
      "cell_type": "code",
      "execution_count": 16,
      "metadata": {
        "colab": {
          "base_uri": "https://localhost:8080/"
        },
        "id": "U-F2vu08EI4c",
        "outputId": "da29a93b-56d7-4376-ce81-c23623dbb3a8"
      },
      "outputs": [
        {
          "output_type": "stream",
          "name": "stdout",
          "text": [
            "313/313 [==============================] - 1s 2ms/step - loss: 0.0375 - accuracy: 0.9889\n",
            "Test accuracy: 0.989\n"
          ]
        }
      ],
      "source": [
        "test_loss, test_acc = model.evaluate(test_images, test_labels)\n",
        "print(f\"Test accuracy: {test_acc:.3f}\")"
      ]
    },
    {
      "cell_type": "markdown",
      "metadata": {
        "id": "eK02CmdjEI4c"
      },
      "source": [
        "### The convolution operation"
      ]
    },
    {
      "cell_type": "markdown",
      "metadata": {
        "id": "RmpS2UrZEI4d"
      },
      "source": [
        "#### Understanding border effects and padding"
      ]
    },
    {
      "cell_type": "markdown",
      "metadata": {
        "id": "a5ytwQdAEI4d"
      },
      "source": [
        "#### Understanding convolution strides"
      ]
    },
    {
      "cell_type": "markdown",
      "metadata": {
        "id": "GW6wZPy0EI4e"
      },
      "source": [
        "### The max-pooling operation"
      ]
    },
    {
      "cell_type": "markdown",
      "metadata": {
        "id": "a_tkSGBCEI4e"
      },
      "source": [
        "**An incorrectly structured convnet missing its max-pooling layers**"
      ]
    },
    {
      "cell_type": "code",
      "execution_count": 17,
      "metadata": {
        "id": "fyeFOlrIEI4e"
      },
      "outputs": [],
      "source": [
        "inputs = keras.Input(shape=(28, 28, 1))\n",
        "x = layers.Conv2D(filters=32, kernel_size=3, activation=\"relu\")(inputs)\n",
        "x = layers.Conv2D(filters=64, kernel_size=3, activation=\"relu\")(x)\n",
        "x = layers.Conv2D(filters=128, kernel_size=3, activation=\"relu\")(x)\n",
        "x = layers.Flatten()(x)\n",
        "outputs = layers.Dense(10, activation=\"softmax\")(x)\n",
        "model_no_max_pool = keras.Model(inputs=inputs, outputs=outputs)"
      ]
    },
    {
      "cell_type": "code",
      "execution_count": 18,
      "metadata": {
        "colab": {
          "base_uri": "https://localhost:8080/"
        },
        "id": "e_3nO34MEI4f",
        "outputId": "ecc37460-93b4-4bb9-8f29-196d5ad4d0a5"
      },
      "outputs": [
        {
          "output_type": "stream",
          "name": "stdout",
          "text": [
            "Model: \"model_3\"\n",
            "_________________________________________________________________\n",
            " Layer (type)                Output Shape              Param #   \n",
            "=================================================================\n",
            " input_4 (InputLayer)        [(None, 28, 28, 1)]       0         \n",
            "                                                                 \n",
            " conv2d_9 (Conv2D)           (None, 26, 26, 32)        320       \n",
            "                                                                 \n",
            " conv2d_10 (Conv2D)          (None, 24, 24, 64)        18496     \n",
            "                                                                 \n",
            " conv2d_11 (Conv2D)          (None, 22, 22, 128)       73856     \n",
            "                                                                 \n",
            " flatten_3 (Flatten)         (None, 61952)             0         \n",
            "                                                                 \n",
            " dense_3 (Dense)             (None, 10)                619530    \n",
            "                                                                 \n",
            "=================================================================\n",
            "Total params: 712,202\n",
            "Trainable params: 712,202\n",
            "Non-trainable params: 0\n",
            "_________________________________________________________________\n"
          ]
        }
      ],
      "source": [
        "model_no_max_pool.summary()"
      ]
    },
    {
      "cell_type": "markdown",
      "metadata": {
        "id": "KDLjFf-XEI4f"
      },
      "source": [
        "## Training a convnet from scratch on a small dataset"
      ]
    },
    {
      "cell_type": "markdown",
      "metadata": {
        "id": "tDCdHKfQEI4f"
      },
      "source": [
        "### The relevance of deep learning for small-data problems"
      ]
    },
    {
      "cell_type": "markdown",
      "metadata": {
        "id": "LlwppZy0EI4f"
      },
      "source": [
        "### Downloading the data"
      ]
    },
    {
      "cell_type": "code",
      "execution_count": 19,
      "metadata": {
        "colab": {
          "base_uri": "https://localhost:8080/",
          "height": 92
        },
        "id": "YqtT_RnVEI4g",
        "outputId": "17a2b963-36ce-4253-9a96-3cf57f74f89f"
      },
      "outputs": [
        {
          "output_type": "display_data",
          "data": {
            "text/plain": [
              "<IPython.core.display.HTML object>"
            ],
            "text/html": [
              "\n",
              "     <input type=\"file\" id=\"files-505c2fcd-d694-4f6c-8c3c-7cd72d716e87\" name=\"files[]\" multiple disabled\n",
              "        style=\"border:none\" />\n",
              "     <output id=\"result-505c2fcd-d694-4f6c-8c3c-7cd72d716e87\">\n",
              "      Upload widget is only available when the cell has been executed in the\n",
              "      current browser session. Please rerun this cell to enable.\n",
              "      </output>\n",
              "      <script>// Copyright 2017 Google LLC\n",
              "//\n",
              "// Licensed under the Apache License, Version 2.0 (the \"License\");\n",
              "// you may not use this file except in compliance with the License.\n",
              "// You may obtain a copy of the License at\n",
              "//\n",
              "//      http://www.apache.org/licenses/LICENSE-2.0\n",
              "//\n",
              "// Unless required by applicable law or agreed to in writing, software\n",
              "// distributed under the License is distributed on an \"AS IS\" BASIS,\n",
              "// WITHOUT WARRANTIES OR CONDITIONS OF ANY KIND, either express or implied.\n",
              "// See the License for the specific language governing permissions and\n",
              "// limitations under the License.\n",
              "\n",
              "/**\n",
              " * @fileoverview Helpers for google.colab Python module.\n",
              " */\n",
              "(function(scope) {\n",
              "function span(text, styleAttributes = {}) {\n",
              "  const element = document.createElement('span');\n",
              "  element.textContent = text;\n",
              "  for (const key of Object.keys(styleAttributes)) {\n",
              "    element.style[key] = styleAttributes[key];\n",
              "  }\n",
              "  return element;\n",
              "}\n",
              "\n",
              "// Max number of bytes which will be uploaded at a time.\n",
              "const MAX_PAYLOAD_SIZE = 100 * 1024;\n",
              "\n",
              "function _uploadFiles(inputId, outputId) {\n",
              "  const steps = uploadFilesStep(inputId, outputId);\n",
              "  const outputElement = document.getElementById(outputId);\n",
              "  // Cache steps on the outputElement to make it available for the next call\n",
              "  // to uploadFilesContinue from Python.\n",
              "  outputElement.steps = steps;\n",
              "\n",
              "  return _uploadFilesContinue(outputId);\n",
              "}\n",
              "\n",
              "// This is roughly an async generator (not supported in the browser yet),\n",
              "// where there are multiple asynchronous steps and the Python side is going\n",
              "// to poll for completion of each step.\n",
              "// This uses a Promise to block the python side on completion of each step,\n",
              "// then passes the result of the previous step as the input to the next step.\n",
              "function _uploadFilesContinue(outputId) {\n",
              "  const outputElement = document.getElementById(outputId);\n",
              "  const steps = outputElement.steps;\n",
              "\n",
              "  const next = steps.next(outputElement.lastPromiseValue);\n",
              "  return Promise.resolve(next.value.promise).then((value) => {\n",
              "    // Cache the last promise value to make it available to the next\n",
              "    // step of the generator.\n",
              "    outputElement.lastPromiseValue = value;\n",
              "    return next.value.response;\n",
              "  });\n",
              "}\n",
              "\n",
              "/**\n",
              " * Generator function which is called between each async step of the upload\n",
              " * process.\n",
              " * @param {string} inputId Element ID of the input file picker element.\n",
              " * @param {string} outputId Element ID of the output display.\n",
              " * @return {!Iterable<!Object>} Iterable of next steps.\n",
              " */\n",
              "function* uploadFilesStep(inputId, outputId) {\n",
              "  const inputElement = document.getElementById(inputId);\n",
              "  inputElement.disabled = false;\n",
              "\n",
              "  const outputElement = document.getElementById(outputId);\n",
              "  outputElement.innerHTML = '';\n",
              "\n",
              "  const pickedPromise = new Promise((resolve) => {\n",
              "    inputElement.addEventListener('change', (e) => {\n",
              "      resolve(e.target.files);\n",
              "    });\n",
              "  });\n",
              "\n",
              "  const cancel = document.createElement('button');\n",
              "  inputElement.parentElement.appendChild(cancel);\n",
              "  cancel.textContent = 'Cancel upload';\n",
              "  const cancelPromise = new Promise((resolve) => {\n",
              "    cancel.onclick = () => {\n",
              "      resolve(null);\n",
              "    };\n",
              "  });\n",
              "\n",
              "  // Wait for the user to pick the files.\n",
              "  const files = yield {\n",
              "    promise: Promise.race([pickedPromise, cancelPromise]),\n",
              "    response: {\n",
              "      action: 'starting',\n",
              "    }\n",
              "  };\n",
              "\n",
              "  cancel.remove();\n",
              "\n",
              "  // Disable the input element since further picks are not allowed.\n",
              "  inputElement.disabled = true;\n",
              "\n",
              "  if (!files) {\n",
              "    return {\n",
              "      response: {\n",
              "        action: 'complete',\n",
              "      }\n",
              "    };\n",
              "  }\n",
              "\n",
              "  for (const file of files) {\n",
              "    const li = document.createElement('li');\n",
              "    li.append(span(file.name, {fontWeight: 'bold'}));\n",
              "    li.append(span(\n",
              "        `(${file.type || 'n/a'}) - ${file.size} bytes, ` +\n",
              "        `last modified: ${\n",
              "            file.lastModifiedDate ? file.lastModifiedDate.toLocaleDateString() :\n",
              "                                    'n/a'} - `));\n",
              "    const percent = span('0% done');\n",
              "    li.appendChild(percent);\n",
              "\n",
              "    outputElement.appendChild(li);\n",
              "\n",
              "    const fileDataPromise = new Promise((resolve) => {\n",
              "      const reader = new FileReader();\n",
              "      reader.onload = (e) => {\n",
              "        resolve(e.target.result);\n",
              "      };\n",
              "      reader.readAsArrayBuffer(file);\n",
              "    });\n",
              "    // Wait for the data to be ready.\n",
              "    let fileData = yield {\n",
              "      promise: fileDataPromise,\n",
              "      response: {\n",
              "        action: 'continue',\n",
              "      }\n",
              "    };\n",
              "\n",
              "    // Use a chunked sending to avoid message size limits. See b/62115660.\n",
              "    let position = 0;\n",
              "    do {\n",
              "      const length = Math.min(fileData.byteLength - position, MAX_PAYLOAD_SIZE);\n",
              "      const chunk = new Uint8Array(fileData, position, length);\n",
              "      position += length;\n",
              "\n",
              "      const base64 = btoa(String.fromCharCode.apply(null, chunk));\n",
              "      yield {\n",
              "        response: {\n",
              "          action: 'append',\n",
              "          file: file.name,\n",
              "          data: base64,\n",
              "        },\n",
              "      };\n",
              "\n",
              "      let percentDone = fileData.byteLength === 0 ?\n",
              "          100 :\n",
              "          Math.round((position / fileData.byteLength) * 100);\n",
              "      percent.textContent = `${percentDone}% done`;\n",
              "\n",
              "    } while (position < fileData.byteLength);\n",
              "  }\n",
              "\n",
              "  // All done.\n",
              "  yield {\n",
              "    response: {\n",
              "      action: 'complete',\n",
              "    }\n",
              "  };\n",
              "}\n",
              "\n",
              "scope.google = scope.google || {};\n",
              "scope.google.colab = scope.google.colab || {};\n",
              "scope.google.colab._files = {\n",
              "  _uploadFiles,\n",
              "  _uploadFilesContinue,\n",
              "};\n",
              "})(self);\n",
              "</script> "
            ]
          },
          "metadata": {}
        },
        {
          "output_type": "stream",
          "name": "stdout",
          "text": [
            "Saving dogs-vs-cats.zip to dogs-vs-cats.zip\n"
          ]
        }
      ],
      "source": [
        "from google.colab import files\n",
        "files.upload()"
      ]
    },
    {
      "cell_type": "code",
      "execution_count": 20,
      "metadata": {
        "id": "9fHORyRiEI4g"
      },
      "outputs": [],
      "source": [
        "!unzip -qq dogs-vs-cats.zip\n",
        "!unzip -qq train.zip\n",
        "!unzip -qq test1.zip"
      ]
    },
    {
      "cell_type": "markdown",
      "metadata": {
        "id": "wH0bpDp4EI4g"
      },
      "source": [
        "**Copying images to training, validation, and test directories**"
      ]
    },
    {
      "cell_type": "code",
      "execution_count": 21,
      "metadata": {
        "id": "w77WPlkAEI4g"
      },
      "outputs": [],
      "source": [
        "import os, shutil, pathlib\n",
        "\n",
        "original_dir = pathlib.Path(\"train\")\n",
        "new_base_dir = pathlib.Path(\"cats_vs_dogs_small\")\n",
        "\n",
        "def make_subset(subset_name, start_index, end_index):\n",
        "    for category in (\"cat\", \"dog\"):\n",
        "        dir = new_base_dir / subset_name / category\n",
        "        os.makedirs(dir)\n",
        "        fnames = [f\"{category}.{i}.jpg\" for i in range(start_index, end_index)]\n",
        "        for fname in fnames:\n",
        "            shutil.copyfile(src=original_dir / fname,\n",
        "                            dst=dir / fname)\n",
        "\n",
        "make_subset(\"train\", start_index=0, end_index=1000)\n",
        "make_subset(\"validation\", start_index=1000, end_index=1500)\n",
        "make_subset(\"test\", start_index=1500, end_index=2500)"
      ]
    },
    {
      "cell_type": "markdown",
      "metadata": {
        "id": "FmsUfnz9EI4h"
      },
      "source": [
        "### Building the model"
      ]
    },
    {
      "cell_type": "markdown",
      "metadata": {
        "id": "fwaZkv5rEI4h"
      },
      "source": [
        "**Instantiating a small convnet for dogs vs. cats classification**"
      ]
    },
    {
      "cell_type": "code",
      "execution_count": 22,
      "metadata": {
        "id": "6obpJltiEI4h"
      },
      "outputs": [],
      "source": [
        "from tensorflow import keras\n",
        "from tensorflow.keras import layers\n",
        "\n",
        "inputs = keras.Input(shape=(180, 180, 3))\n",
        "x = layers.Rescaling(1./255)(inputs)\n",
        "x = layers.Conv2D(filters=32, kernel_size=3, activation=\"relu\")(x)\n",
        "x = layers.MaxPooling2D(pool_size=2)(x)\n",
        "x = layers.Conv2D(filters=64, kernel_size=3, activation=\"relu\")(x)\n",
        "x = layers.MaxPooling2D(pool_size=2)(x)\n",
        "x = layers.Conv2D(filters=128, kernel_size=3, activation=\"relu\")(x)\n",
        "x = layers.MaxPooling2D(pool_size=2)(x)\n",
        "x = layers.Conv2D(filters=256, kernel_size=3, activation=\"relu\")(x)\n",
        "x = layers.MaxPooling2D(pool_size=2)(x)\n",
        "x = layers.Conv2D(filters=256, kernel_size=3, activation=\"relu\")(x)\n",
        "x = layers.Flatten()(x)\n",
        "outputs = layers.Dense(1, activation=\"sigmoid\")(x)\n",
        "model = keras.Model(inputs=inputs, outputs=outputs)"
      ]
    },
    {
      "cell_type": "code",
      "execution_count": 23,
      "metadata": {
        "colab": {
          "base_uri": "https://localhost:8080/"
        },
        "id": "_Is0ASvLEI4h",
        "outputId": "6244948c-2476-40b8-9f36-6ba51ce9d992"
      },
      "outputs": [
        {
          "output_type": "stream",
          "name": "stdout",
          "text": [
            "Model: \"model_4\"\n",
            "_________________________________________________________________\n",
            " Layer (type)                Output Shape              Param #   \n",
            "=================================================================\n",
            " input_5 (InputLayer)        [(None, 180, 180, 3)]     0         \n",
            "                                                                 \n",
            " rescaling (Rescaling)       (None, 180, 180, 3)       0         \n",
            "                                                                 \n",
            " conv2d_12 (Conv2D)          (None, 178, 178, 32)      896       \n",
            "                                                                 \n",
            " max_pooling2d_4 (MaxPooling  (None, 89, 89, 32)       0         \n",
            " 2D)                                                             \n",
            "                                                                 \n",
            " conv2d_13 (Conv2D)          (None, 87, 87, 64)        18496     \n",
            "                                                                 \n",
            " max_pooling2d_5 (MaxPooling  (None, 43, 43, 64)       0         \n",
            " 2D)                                                             \n",
            "                                                                 \n",
            " conv2d_14 (Conv2D)          (None, 41, 41, 128)       73856     \n",
            "                                                                 \n",
            " max_pooling2d_6 (MaxPooling  (None, 20, 20, 128)      0         \n",
            " 2D)                                                             \n",
            "                                                                 \n",
            " conv2d_15 (Conv2D)          (None, 18, 18, 256)       295168    \n",
            "                                                                 \n",
            " max_pooling2d_7 (MaxPooling  (None, 9, 9, 256)        0         \n",
            " 2D)                                                             \n",
            "                                                                 \n",
            " conv2d_16 (Conv2D)          (None, 7, 7, 256)         590080    \n",
            "                                                                 \n",
            " flatten_4 (Flatten)         (None, 12544)             0         \n",
            "                                                                 \n",
            " dense_4 (Dense)             (None, 1)                 12545     \n",
            "                                                                 \n",
            "=================================================================\n",
            "Total params: 991,041\n",
            "Trainable params: 991,041\n",
            "Non-trainable params: 0\n",
            "_________________________________________________________________\n"
          ]
        }
      ],
      "source": [
        "model.summary()"
      ]
    },
    {
      "cell_type": "markdown",
      "metadata": {
        "id": "LmLBsZiFEI4h"
      },
      "source": [
        "**Configuring the model for training**"
      ]
    },
    {
      "cell_type": "code",
      "execution_count": 24,
      "metadata": {
        "id": "KxVwOCTBEI4i"
      },
      "outputs": [],
      "source": [
        "model.compile(loss=\"binary_crossentropy\",\n",
        "              optimizer=\"rmsprop\",\n",
        "              metrics=[\"accuracy\"])"
      ]
    },
    {
      "cell_type": "markdown",
      "metadata": {
        "id": "zSMbQetgEI4i"
      },
      "source": [
        "### Data preprocessing"
      ]
    },
    {
      "cell_type": "markdown",
      "metadata": {
        "id": "vQD99lnrEI4i"
      },
      "source": [
        "**Using `image_dataset_from_directory` to read images**"
      ]
    },
    {
      "cell_type": "code",
      "execution_count": 25,
      "metadata": {
        "colab": {
          "base_uri": "https://localhost:8080/"
        },
        "id": "TGDvbQg9EI4i",
        "outputId": "80ad34dc-26fe-4f92-f835-067699b9a53b"
      },
      "outputs": [
        {
          "output_type": "stream",
          "name": "stdout",
          "text": [
            "Found 2000 files belonging to 2 classes.\n",
            "Found 1000 files belonging to 2 classes.\n",
            "Found 2000 files belonging to 2 classes.\n"
          ]
        }
      ],
      "source": [
        "from tensorflow.keras.utils import image_dataset_from_directory\n",
        "\n",
        "train_dataset = image_dataset_from_directory(\n",
        "    new_base_dir / \"train\",\n",
        "    image_size=(180, 180),\n",
        "    batch_size=32)\n",
        "validation_dataset = image_dataset_from_directory(\n",
        "    new_base_dir / \"validation\",\n",
        "    image_size=(180, 180),\n",
        "    batch_size=32)\n",
        "test_dataset = image_dataset_from_directory(\n",
        "    new_base_dir / \"test\",\n",
        "    image_size=(180, 180),\n",
        "    batch_size=32)"
      ]
    },
    {
      "cell_type": "code",
      "execution_count": 26,
      "metadata": {
        "id": "KFalVzGdEI4i"
      },
      "outputs": [],
      "source": [
        "import numpy as np\n",
        "import tensorflow as tf\n",
        "random_numbers = np.random.normal(size=(1000, 16))\n",
        "dataset = tf.data.Dataset.from_tensor_slices(random_numbers)"
      ]
    },
    {
      "cell_type": "code",
      "execution_count": 27,
      "metadata": {
        "colab": {
          "base_uri": "https://localhost:8080/"
        },
        "id": "PM601YIbEI4i",
        "outputId": "b0739e8d-4bbf-49f0-d689-e22cd61a367c"
      },
      "outputs": [
        {
          "output_type": "stream",
          "name": "stdout",
          "text": [
            "(16,)\n",
            "(16,)\n",
            "(16,)\n"
          ]
        }
      ],
      "source": [
        "for i, element in enumerate(dataset):\n",
        "    print(element.shape)\n",
        "    if i >= 2:\n",
        "        break"
      ]
    },
    {
      "cell_type": "code",
      "execution_count": 28,
      "metadata": {
        "colab": {
          "base_uri": "https://localhost:8080/"
        },
        "id": "GBUF3PTCEI4j",
        "outputId": "c3724dae-3835-42d6-efc7-4cf20886c3e2"
      },
      "outputs": [
        {
          "output_type": "stream",
          "name": "stdout",
          "text": [
            "(32, 16)\n",
            "(32, 16)\n",
            "(32, 16)\n"
          ]
        }
      ],
      "source": [
        "batched_dataset = dataset.batch(32)\n",
        "for i, element in enumerate(batched_dataset):\n",
        "    print(element.shape)\n",
        "    if i >= 2:\n",
        "        break"
      ]
    },
    {
      "cell_type": "code",
      "execution_count": 29,
      "metadata": {
        "colab": {
          "base_uri": "https://localhost:8080/"
        },
        "id": "jRboDJc9EI4j",
        "outputId": "69cec00e-d54e-4ff7-d1c6-ec8b4d211ebc"
      },
      "outputs": [
        {
          "output_type": "stream",
          "name": "stdout",
          "text": [
            "(4, 4)\n",
            "(4, 4)\n",
            "(4, 4)\n"
          ]
        }
      ],
      "source": [
        "reshaped_dataset = dataset.map(lambda x: tf.reshape(x, (4, 4)))\n",
        "for i, element in enumerate(reshaped_dataset):\n",
        "    print(element.shape)\n",
        "    if i >= 2:\n",
        "        break"
      ]
    },
    {
      "cell_type": "markdown",
      "metadata": {
        "id": "dcAHZKzVEI4j"
      },
      "source": [
        "**Displaying the shapes of the data and labels yielded by the `Dataset`**"
      ]
    },
    {
      "cell_type": "code",
      "execution_count": 30,
      "metadata": {
        "colab": {
          "base_uri": "https://localhost:8080/"
        },
        "id": "zetqdIP9EI4j",
        "outputId": "8f3509cc-e262-4982-d660-3b085a44c528"
      },
      "outputs": [
        {
          "output_type": "stream",
          "name": "stdout",
          "text": [
            "data batch shape: (32, 180, 180, 3)\n",
            "labels batch shape: (32,)\n"
          ]
        }
      ],
      "source": [
        "for data_batch, labels_batch in train_dataset:\n",
        "    print(\"data batch shape:\", data_batch.shape)\n",
        "    print(\"labels batch shape:\", labels_batch.shape)\n",
        "    break"
      ]
    },
    {
      "cell_type": "markdown",
      "metadata": {
        "id": "e5WMB5zsEI4j"
      },
      "source": [
        "**Fitting the model using a `Dataset`**"
      ]
    },
    {
      "cell_type": "code",
      "execution_count": 38,
      "metadata": {
        "colab": {
          "base_uri": "https://localhost:8080/"
        },
        "id": "TKynUCrxEI4j",
        "outputId": "2f908d5a-37fc-408f-9709-9bd2927a18f6"
      },
      "outputs": [
        {
          "output_type": "stream",
          "name": "stdout",
          "text": [
            "Epoch 1/20\n",
            "63/63 [==============================] - 2s 36ms/step - loss: 0.1647 - accuracy: 0.9495 - val_loss: 0.6707 - val_accuracy: 0.8430\n",
            "Epoch 2/20\n",
            "63/63 [==============================] - 2s 35ms/step - loss: 0.1789 - accuracy: 0.9405 - val_loss: 0.7825 - val_accuracy: 0.8440\n",
            "Epoch 3/20\n",
            "63/63 [==============================] - 2s 36ms/step - loss: 0.2106 - accuracy: 0.9320 - val_loss: 0.8419 - val_accuracy: 0.8280\n",
            "Epoch 4/20\n",
            "63/63 [==============================] - 2s 36ms/step - loss: 0.1911 - accuracy: 0.9320 - val_loss: 0.6339 - val_accuracy: 0.8580\n",
            "Epoch 5/20\n",
            "63/63 [==============================] - 2s 35ms/step - loss: 0.1746 - accuracy: 0.9350 - val_loss: 0.7250 - val_accuracy: 0.8510\n",
            "Epoch 6/20\n",
            "63/63 [==============================] - 2s 35ms/step - loss: 0.1773 - accuracy: 0.9385 - val_loss: 0.8692 - val_accuracy: 0.8270\n",
            "Epoch 7/20\n",
            "63/63 [==============================] - 2s 35ms/step - loss: 0.2053 - accuracy: 0.9295 - val_loss: 0.6620 - val_accuracy: 0.8550\n",
            "Epoch 8/20\n",
            "63/63 [==============================] - 2s 36ms/step - loss: 0.1963 - accuracy: 0.9340 - val_loss: 0.5719 - val_accuracy: 0.8540\n",
            "Epoch 9/20\n",
            "63/63 [==============================] - 2s 35ms/step - loss: 0.1657 - accuracy: 0.9460 - val_loss: 0.7087 - val_accuracy: 0.8400\n",
            "Epoch 10/20\n",
            "63/63 [==============================] - 2s 35ms/step - loss: 0.1973 - accuracy: 0.9305 - val_loss: 0.5471 - val_accuracy: 0.8490\n",
            "Epoch 11/20\n",
            "63/63 [==============================] - 2s 35ms/step - loss: 0.1767 - accuracy: 0.9385 - val_loss: 0.7327 - val_accuracy: 0.8350\n",
            "Epoch 12/20\n",
            "63/63 [==============================] - 2s 35ms/step - loss: 0.1795 - accuracy: 0.9370 - val_loss: 0.8067 - val_accuracy: 0.8110\n",
            "Epoch 13/20\n",
            "63/63 [==============================] - 2s 35ms/step - loss: 0.1861 - accuracy: 0.9355 - val_loss: 0.5587 - val_accuracy: 0.8540\n",
            "Epoch 14/20\n",
            "63/63 [==============================] - 2s 35ms/step - loss: 0.1863 - accuracy: 0.9305 - val_loss: 0.7610 - val_accuracy: 0.8520\n",
            "Epoch 15/20\n",
            "63/63 [==============================] - 2s 35ms/step - loss: 0.1779 - accuracy: 0.9385 - val_loss: 0.8474 - val_accuracy: 0.8470\n",
            "Epoch 16/20\n",
            "63/63 [==============================] - 2s 35ms/step - loss: 0.2107 - accuracy: 0.9365 - val_loss: 1.2739 - val_accuracy: 0.8150\n",
            "Epoch 17/20\n",
            "63/63 [==============================] - 2s 35ms/step - loss: 0.2066 - accuracy: 0.9310 - val_loss: 0.7756 - val_accuracy: 0.8290\n",
            "Epoch 18/20\n",
            "63/63 [==============================] - 2s 36ms/step - loss: 0.1750 - accuracy: 0.9405 - val_loss: 0.8610 - val_accuracy: 0.8450\n",
            "Epoch 19/20\n",
            "63/63 [==============================] - 2s 35ms/step - loss: 0.1791 - accuracy: 0.9350 - val_loss: 0.7027 - val_accuracy: 0.8650\n",
            "Epoch 20/20\n",
            "63/63 [==============================] - 2s 35ms/step - loss: 0.2076 - accuracy: 0.9295 - val_loss: 0.6190 - val_accuracy: 0.8560\n"
          ]
        }
      ],
      "source": [
        "callbacks = [\n",
        "    keras.callbacks.ModelCheckpoint(\n",
        "        filepath=\"convnet_from_scratch.keras\",\n",
        "        save_best_only=True,\n",
        "        monitor=\"val_loss\")\n",
        "]\n",
        "history = model.fit(\n",
        "    train_dataset,\n",
        "    epochs=20,\n",
        "    validation_data=validation_dataset,\n",
        "    callbacks=callbacks)"
      ]
    },
    {
      "cell_type": "markdown",
      "metadata": {
        "id": "s41FFIxMEI4j"
      },
      "source": [
        "**Displaying curves of loss and accuracy during training**"
      ]
    },
    {
      "cell_type": "code",
      "execution_count": 39,
      "metadata": {
        "colab": {
          "base_uri": "https://localhost:8080/",
          "height": 545
        },
        "id": "ZES_aykmEI4j",
        "outputId": "ea31d930-556c-4c52-dadf-9ec3760c1dfd"
      },
      "outputs": [
        {
          "output_type": "display_data",
          "data": {
            "text/plain": [
              "<Figure size 432x288 with 1 Axes>"
            ],
            "image/png": "[encoded data removed]"
          },
          "metadata": {
            "needs_background": "light"
          }
        },
        {
          "output_type": "display_data",
          "data": {
            "text/plain": [
              "<Figure size 432x288 with 1 Axes>"
            ],
            "image/png": "[encoded data removed]"
          },
          "metadata": {
            "needs_background": "light"
          }
        }
      ],
      "source": [
        "import matplotlib.pyplot as plt\n",
        "accuracy = history.history[\"accuracy\"]\n",
        "val_accuracy = history.history[\"val_accuracy\"]\n",
        "loss = history.history[\"loss\"]\n",
        "val_loss = history.history[\"val_loss\"]\n",
        "epochs = range(1, len(accuracy) + 1)\n",
        "plt.plot(epochs, accuracy, \"bo\", label=\"Training accuracy\")\n",
        "plt.plot(epochs, val_accuracy, \"b\", label=\"Validation accuracy\")\n",
        "plt.title(\"Training and validation accuracy\")\n",
        "plt.legend()\n",
        "plt.figure()\n",
        "plt.plot(epochs, loss, \"bo\", label=\"Training loss\")\n",
        "plt.plot(epochs, val_loss, \"b\", label=\"Validation loss\")\n",
        "plt.title(\"Training and validation loss\")\n",
        "plt.legend()\n",
        "plt.show()"
      ]
    },
    {
      "cell_type": "markdown",
      "metadata": {
        "id": "AhXi919aEI4j"
      },
      "source": [
        "**Evaluating the model on the test set**"
      ]
    },
    {
      "cell_type": "code",
      "execution_count": 40,
      "metadata": {
        "colab": {
          "base_uri": "https://localhost:8080/"
        },
        "id": "eyJJlI_fEI4k",
        "outputId": "e3240ddb-6960-4617-e005-88925c486c3a"
      },
      "outputs": [
        {
          "output_type": "stream",
          "name": "stdout",
          "text": [
            "63/63 [==============================] - 1s 11ms/step - loss: 0.6207 - accuracy: 0.8305\n",
            "Test accuracy: 0.831\n"
          ]
        }
      ],
      "source": [
        "test_model = keras.models.load_model(\"convnet_from_scratch.keras\")\n",
        "test_loss, test_acc = test_model.evaluate(test_dataset)\n",
        "print(f\"Test accuracy: {test_acc:.3f}\")"
      ]
    },
    {
      "cell_type": "markdown",
      "metadata": {
        "id": "KyLD2xQUEI4k"
      },
      "source": [
        "### Using data augmentation"
      ]
    },
    {
      "cell_type": "markdown",
      "metadata": {
        "id": "tt7LvopJEI4k"
      },
      "source": [
        "**Define a data augmentation stage to add to an image model**"
      ]
    },
    {
      "cell_type": "code",
      "execution_count": 41,
      "metadata": {
        "id": "bMEXEsoaEI4k"
      },
      "outputs": [],
      "source": [
        "data_augmentation = keras.Sequential(\n",
        "    [\n",
        "        layers.RandomFlip(\"horizontal\"),\n",
        "        layers.RandomRotation(0.1),\n",
        "        layers.RandomZoom(0.2),\n",
        "    ]\n",
        ")"
      ]
    },
    {
      "cell_type": "markdown",
      "metadata": {
        "id": "sFa55enNEI4k"
      },
      "source": [
        "**Displaying some randomly augmented training images**"
      ]
    },
    {
      "cell_type": "code",
      "execution_count": 42,
      "metadata": {
        "colab": {
          "base_uri": "https://localhost:8080/",
          "height": 575
        },
        "id": "RYbmZA-VEI4k",
        "outputId": "4d0475e5-dd6c-44e7-dbef-79e0903e4c9d"
      },
      "outputs": [
        {
          "output_type": "display_data",
          "data": {
            "text/plain": [
              "<Figure size 720x720 with 9 Axes>"
            ],
            "image/png": "[encoded data removed]"
          },
          "metadata": {
            "needs_background": "light"
          }
        }
      ],
      "source": [
        "plt.figure(figsize=(10, 10))\n",
        "for images, _ in train_dataset.take(1):\n",
        "    for i in range(9):\n",
        "        augmented_images = data_augmentation(images)\n",
        "        ax = plt.subplot(3, 3, i + 1)\n",
        "        plt.imshow(augmented_images[0].numpy().astype(\"uint8\"))\n",
        "        plt.axis(\"off\")"
      ]
    },
    {
      "cell_type": "markdown",
      "metadata": {
        "id": "8PfSOWybEI4k"
      },
      "source": [
        "**Defining a new convnet that includes image augmentation and dropout**"
      ]
    },
    {
      "cell_type": "code",
      "execution_count": 43,
      "metadata": {
        "id": "Du5HTObyEI4k"
      },
      "outputs": [],
      "source": [
        "inputs = keras.Input(shape=(180, 180, 3))\n",
        "x = data_augmentation(inputs)\n",
        "x = layers.Rescaling(1./255)(x)\n",
        "x = layers.Conv2D(filters=16, kernel_size=5, activation=\"relu\")(x)\n",
        "x = layers.MaxPooling2D(pool_size=2)(x)\n",
        "x = layers.Conv2D(filters=32, kernel_size=5, activation=\"relu\")(x)\n",
        "x = layers.MaxPooling2D(pool_size=2)(x)\n",
        "x = layers.Conv2D(filters=64, kernel_size=5, activation=\"relu\")(x)\n",
        "x = layers.MaxPooling2D(pool_size=2)(x)\n",
        "x = layers.Conv2D(filters=128, kernel_size=5, activation=\"relu\")(x)\n",
        "x = layers.MaxPooling2D(pool_size=2)(x)\n",
        "x = layers.Conv2D(filters=256, kernel_size=5, activation=\"relu\")(x)\n",
        "x = layers.Flatten()(x)\n",
        "x = layers.Dropout(0.5)(x)\n",
        "outputs = layers.Dense(1, activation=\"sigmoid\")(x)\n",
        "model = keras.Model(inputs=inputs, outputs=outputs)\n",
        "\n",
        "model.compile(loss=\"binary_crossentropy\",\n",
        "              optimizer=\"rmsprop\",\n",
        "              metrics=[\"accuracy\"])"
      ]
    },
    {
      "cell_type": "markdown",
      "metadata": {
        "id": "ZeiOFgtVEI4k"
      },
      "source": [
        "**Training the regularized convnet**"
      ]
    },
    {
      "cell_type": "code",
      "execution_count": 44,
      "metadata": {
        "colab": {
          "base_uri": "https://localhost:8080/"
        },
        "id": "90A_cvZiEI4l",
        "outputId": "2869b629-a7cb-4f51-b482-8c16947d3407"
      },
      "outputs": [
        {
          "output_type": "stream",
          "name": "stdout",
          "text": [
            "Epoch 1/110\n",
            "63/63 [==============================] - 4s 39ms/step - loss: 0.7252 - accuracy: 0.5060 - val_loss: 0.6924 - val_accuracy: 0.5720\n",
            "Epoch 2/110\n",
            "63/63 [==============================] - 2s 34ms/step - loss: 0.6968 - accuracy: 0.5365 - val_loss: 0.7475 - val_accuracy: 0.5100\n",
            "Epoch 3/110\n",
            "63/63 [==============================] - 2s 35ms/step - loss: 0.6849 - accuracy: 0.5790 - val_loss: 0.6726 - val_accuracy: 0.5780\n",
            "Epoch 4/110\n",
            "63/63 [==============================] - 2s 35ms/step - loss: 0.6655 - accuracy: 0.5995 - val_loss: 0.8510 - val_accuracy: 0.4820\n",
            "Epoch 5/110\n",
            "63/63 [==============================] - 2s 34ms/step - loss: 0.6647 - accuracy: 0.6110 - val_loss: 0.7077 - val_accuracy: 0.5580\n",
            "Epoch 6/110\n",
            "63/63 [==============================] - 2s 35ms/step - loss: 0.6557 - accuracy: 0.6265 - val_loss: 0.7115 - val_accuracy: 0.5870\n",
            "Epoch 7/110\n",
            "63/63 [==============================] - 2s 35ms/step - loss: 0.6614 - accuracy: 0.6390 - val_loss: 0.6370 - val_accuracy: 0.6670\n",
            "Epoch 8/110\n",
            "63/63 [==============================] - 2s 35ms/step - loss: 0.6374 - accuracy: 0.6470 - val_loss: 0.5953 - val_accuracy: 0.6870\n",
            "Epoch 9/110\n",
            "63/63 [==============================] - 2s 34ms/step - loss: 0.6091 - accuracy: 0.6725 - val_loss: 0.6390 - val_accuracy: 0.6230\n",
            "Epoch 10/110\n",
            "63/63 [==============================] - 2s 35ms/step - loss: 0.6233 - accuracy: 0.6495 - val_loss: 0.5936 - val_accuracy: 0.6700\n",
            "Epoch 11/110\n",
            "63/63 [==============================] - 2s 35ms/step - loss: 0.5885 - accuracy: 0.6800 - val_loss: 0.5579 - val_accuracy: 0.7200\n",
            "Epoch 12/110\n",
            "63/63 [==============================] - 2s 34ms/step - loss: 0.5905 - accuracy: 0.6925 - val_loss: 0.6243 - val_accuracy: 0.6660\n",
            "Epoch 13/110\n",
            "63/63 [==============================] - 2s 35ms/step - loss: 0.5912 - accuracy: 0.7035 - val_loss: 0.7009 - val_accuracy: 0.6450\n",
            "Epoch 14/110\n",
            "63/63 [==============================] - 2s 35ms/step - loss: 0.6146 - accuracy: 0.6820 - val_loss: 0.6162 - val_accuracy: 0.6490\n",
            "Epoch 15/110\n",
            "63/63 [==============================] - 2s 34ms/step - loss: 0.5785 - accuracy: 0.6965 - val_loss: 0.6152 - val_accuracy: 0.6770\n",
            "Epoch 16/110\n",
            "63/63 [==============================] - 2s 36ms/step - loss: 0.5562 - accuracy: 0.7150 - val_loss: 0.6602 - val_accuracy: 0.6490\n",
            "Epoch 17/110\n",
            "63/63 [==============================] - 2s 35ms/step - loss: 0.5485 - accuracy: 0.7300 - val_loss: 0.5751 - val_accuracy: 0.7180\n",
            "Epoch 18/110\n",
            "63/63 [==============================] - 2s 35ms/step - loss: 0.5490 - accuracy: 0.7255 - val_loss: 0.5552 - val_accuracy: 0.7240\n",
            "Epoch 19/110\n",
            "63/63 [==============================] - 2s 34ms/step - loss: 0.5396 - accuracy: 0.7320 - val_loss: 0.7078 - val_accuracy: 0.6870\n",
            "Epoch 20/110\n",
            "63/63 [==============================] - 2s 34ms/step - loss: 0.5320 - accuracy: 0.7445 - val_loss: 0.5678 - val_accuracy: 0.7320\n",
            "Epoch 21/110\n",
            "63/63 [==============================] - 2s 35ms/step - loss: 0.5265 - accuracy: 0.7485 - val_loss: 0.4644 - val_accuracy: 0.7790\n",
            "Epoch 22/110\n",
            "63/63 [==============================] - 2s 34ms/step - loss: 0.4954 - accuracy: 0.7645 - val_loss: 0.5291 - val_accuracy: 0.7350\n",
            "Epoch 23/110\n",
            "63/63 [==============================] - 2s 34ms/step - loss: 0.5074 - accuracy: 0.7680 - val_loss: 0.5427 - val_accuracy: 0.7550\n",
            "Epoch 24/110\n",
            "63/63 [==============================] - 2s 34ms/step - loss: 0.4885 - accuracy: 0.7690 - val_loss: 0.4991 - val_accuracy: 0.7550\n",
            "Epoch 25/110\n",
            "63/63 [==============================] - 2s 34ms/step - loss: 0.4645 - accuracy: 0.7735 - val_loss: 0.5515 - val_accuracy: 0.7440\n",
            "Epoch 26/110\n",
            "63/63 [==============================] - 2s 34ms/step - loss: 0.5057 - accuracy: 0.7540 - val_loss: 0.6427 - val_accuracy: 0.6900\n",
            "Epoch 27/110\n",
            "63/63 [==============================] - 2s 34ms/step - loss: 0.4930 - accuracy: 0.7785 - val_loss: 0.4851 - val_accuracy: 0.7730\n",
            "Epoch 28/110\n",
            "63/63 [==============================] - 2s 34ms/step - loss: 0.4786 - accuracy: 0.7720 - val_loss: 0.5869 - val_accuracy: 0.7430\n",
            "Epoch 29/110\n",
            "63/63 [==============================] - 2s 34ms/step - loss: 0.4503 - accuracy: 0.7970 - val_loss: 0.4670 - val_accuracy: 0.7870\n",
            "Epoch 30/110\n",
            "63/63 [==============================] - 2s 34ms/step - loss: 0.4616 - accuracy: 0.7890 - val_loss: 0.4786 - val_accuracy: 0.7730\n",
            "Epoch 31/110\n",
            "63/63 [==============================] - 2s 34ms/step - loss: 0.4665 - accuracy: 0.7965 - val_loss: 0.5389 - val_accuracy: 0.7700\n",
            "Epoch 32/110\n",
            "63/63 [==============================] - 2s 35ms/step - loss: 0.4260 - accuracy: 0.7960 - val_loss: 0.4606 - val_accuracy: 0.7910\n",
            "Epoch 33/110\n",
            "63/63 [==============================] - 2s 34ms/step - loss: 0.4140 - accuracy: 0.8175 - val_loss: 0.4548 - val_accuracy: 0.7910\n",
            "Epoch 34/110\n",
            "63/63 [==============================] - 2s 34ms/step - loss: 0.4058 - accuracy: 0.8215 - val_loss: 0.4934 - val_accuracy: 0.7840\n",
            "Epoch 35/110\n",
            "63/63 [==============================] - 2s 34ms/step - loss: 0.3988 - accuracy: 0.8210 - val_loss: 0.4603 - val_accuracy: 0.8040\n",
            "Epoch 36/110\n",
            "63/63 [==============================] - 2s 35ms/step - loss: 0.4071 - accuracy: 0.8250 - val_loss: 0.5967 - val_accuracy: 0.7120\n",
            "Epoch 37/110\n",
            "63/63 [==============================] - 2s 34ms/step - loss: 0.3879 - accuracy: 0.8305 - val_loss: 0.6195 - val_accuracy: 0.7340\n",
            "Epoch 38/110\n",
            "63/63 [==============================] - 2s 35ms/step - loss: 0.3802 - accuracy: 0.8270 - val_loss: 0.4526 - val_accuracy: 0.8070\n",
            "Epoch 39/110\n",
            "63/63 [==============================] - 2s 34ms/step - loss: 0.3726 - accuracy: 0.8310 - val_loss: 0.4734 - val_accuracy: 0.8200\n",
            "Epoch 40/110\n",
            "63/63 [==============================] - 2s 34ms/step - loss: 0.3800 - accuracy: 0.8290 - val_loss: 0.7999 - val_accuracy: 0.7080\n",
            "Epoch 41/110\n",
            "63/63 [==============================] - 2s 35ms/step - loss: 0.3657 - accuracy: 0.8485 - val_loss: 0.6921 - val_accuracy: 0.7480\n",
            "Epoch 42/110\n",
            "63/63 [==============================] - 2s 34ms/step - loss: 0.3560 - accuracy: 0.8390 - val_loss: 0.5289 - val_accuracy: 0.7780\n",
            "Epoch 43/110\n",
            "63/63 [==============================] - 2s 34ms/step - loss: 0.3400 - accuracy: 0.8450 - val_loss: 1.1042 - val_accuracy: 0.6900\n",
            "Epoch 44/110\n",
            "63/63 [==============================] - 2s 35ms/step - loss: 0.3531 - accuracy: 0.8430 - val_loss: 0.4517 - val_accuracy: 0.8140\n",
            "Epoch 45/110\n",
            "63/63 [==============================] - 2s 36ms/step - loss: 0.3329 - accuracy: 0.8635 - val_loss: 0.6748 - val_accuracy: 0.7660\n",
            "Epoch 46/110\n",
            "63/63 [==============================] - 2s 35ms/step - loss: 0.3871 - accuracy: 0.8370 - val_loss: 0.4377 - val_accuracy: 0.7980\n",
            "Epoch 47/110\n",
            "63/63 [==============================] - 2s 34ms/step - loss: 0.3230 - accuracy: 0.8650 - val_loss: 0.4545 - val_accuracy: 0.8220\n",
            "Epoch 48/110\n",
            "63/63 [==============================] - 2s 34ms/step - loss: 0.3261 - accuracy: 0.8590 - val_loss: 0.5143 - val_accuracy: 0.7910\n",
            "Epoch 49/110\n",
            "63/63 [==============================] - 2s 34ms/step - loss: 0.3255 - accuracy: 0.8695 - val_loss: 0.4929 - val_accuracy: 0.8350\n",
            "Epoch 50/110\n",
            "63/63 [==============================] - 2s 36ms/step - loss: 0.3153 - accuracy: 0.8720 - val_loss: 0.4677 - val_accuracy: 0.7940\n",
            "Epoch 51/110\n",
            "63/63 [==============================] - 2s 34ms/step - loss: 0.3177 - accuracy: 0.8655 - val_loss: 0.4910 - val_accuracy: 0.8050\n",
            "Epoch 52/110\n",
            "63/63 [==============================] - 2s 34ms/step - loss: 0.3200 - accuracy: 0.8700 - val_loss: 0.4848 - val_accuracy: 0.8300\n",
            "Epoch 53/110\n",
            "63/63 [==============================] - 2s 34ms/step - loss: 0.3215 - accuracy: 0.8650 - val_loss: 0.4836 - val_accuracy: 0.8220\n",
            "Epoch 54/110\n",
            "63/63 [==============================] - 2s 34ms/step - loss: 0.3166 - accuracy: 0.8560 - val_loss: 0.5043 - val_accuracy: 0.7610\n",
            "Epoch 55/110\n",
            "63/63 [==============================] - 2s 35ms/step - loss: 0.3190 - accuracy: 0.8645 - val_loss: 0.5534 - val_accuracy: 0.7810\n",
            "Epoch 56/110\n",
            "63/63 [==============================] - 2s 34ms/step - loss: 0.2961 - accuracy: 0.8795 - val_loss: 0.7426 - val_accuracy: 0.6810\n",
            "Epoch 57/110\n",
            "63/63 [==============================] - 2s 34ms/step - loss: 0.3024 - accuracy: 0.8730 - val_loss: 0.4466 - val_accuracy: 0.8120\n",
            "Epoch 58/110\n",
            "63/63 [==============================] - 2s 34ms/step - loss: 0.2933 - accuracy: 0.8795 - val_loss: 0.5373 - val_accuracy: 0.8300\n",
            "Epoch 59/110\n",
            "63/63 [==============================] - 2s 34ms/step - loss: 0.3414 - accuracy: 0.8720 - val_loss: 0.4662 - val_accuracy: 0.8160\n",
            "Epoch 60/110\n",
            "63/63 [==============================] - 2s 34ms/step - loss: 0.2721 - accuracy: 0.8865 - val_loss: 0.5748 - val_accuracy: 0.8180\n",
            "Epoch 61/110\n",
            "63/63 [==============================] - 2s 34ms/step - loss: 0.2919 - accuracy: 0.8805 - val_loss: 0.6138 - val_accuracy: 0.8020\n",
            "Epoch 62/110\n",
            "63/63 [==============================] - 2s 34ms/step - loss: 0.2971 - accuracy: 0.8855 - val_loss: 0.5693 - val_accuracy: 0.8370\n",
            "Epoch 63/110\n",
            "63/63 [==============================] - 2s 34ms/step - loss: 0.2763 - accuracy: 0.8835 - val_loss: 0.5221 - val_accuracy: 0.8410\n",
            "Epoch 64/110\n",
            "63/63 [==============================] - 2s 34ms/step - loss: 0.2659 - accuracy: 0.8925 - val_loss: 0.4869 - val_accuracy: 0.8320\n",
            "Epoch 65/110\n",
            "63/63 [==============================] - 2s 35ms/step - loss: 0.2893 - accuracy: 0.8855 - val_loss: 0.4792 - val_accuracy: 0.8460\n",
            "Epoch 66/110\n",
            "63/63 [==============================] - 2s 34ms/step - loss: 0.3396 - accuracy: 0.8725 - val_loss: 0.5486 - val_accuracy: 0.8530\n",
            "Epoch 67/110\n",
            "63/63 [==============================] - 2s 34ms/step - loss: 0.2691 - accuracy: 0.8965 - val_loss: 0.4423 - val_accuracy: 0.8170\n",
            "Epoch 68/110\n",
            "63/63 [==============================] - 2s 34ms/step - loss: 0.2727 - accuracy: 0.8915 - val_loss: 0.4600 - val_accuracy: 0.8260\n",
            "Epoch 69/110\n",
            "63/63 [==============================] - 2s 35ms/step - loss: 0.2777 - accuracy: 0.8920 - val_loss: 0.4146 - val_accuracy: 0.8430\n",
            "Epoch 70/110\n",
            "63/63 [==============================] - 2s 36ms/step - loss: 0.2552 - accuracy: 0.9035 - val_loss: 1.0067 - val_accuracy: 0.7510\n",
            "Epoch 71/110\n",
            "63/63 [==============================] - 2s 34ms/step - loss: 0.2599 - accuracy: 0.8970 - val_loss: 0.4830 - val_accuracy: 0.8420\n",
            "Epoch 72/110\n",
            "63/63 [==============================] - 2s 34ms/step - loss: 0.2797 - accuracy: 0.8975 - val_loss: 0.6610 - val_accuracy: 0.8410\n",
            "Epoch 73/110\n",
            "63/63 [==============================] - 2s 35ms/step - loss: 0.2761 - accuracy: 0.9050 - val_loss: 0.5947 - val_accuracy: 0.8370\n",
            "Epoch 74/110\n",
            "63/63 [==============================] - 2s 34ms/step - loss: 0.2404 - accuracy: 0.9025 - val_loss: 0.4745 - val_accuracy: 0.8400\n",
            "Epoch 75/110\n",
            "63/63 [==============================] - 2s 35ms/step - loss: 0.2612 - accuracy: 0.8915 - val_loss: 0.5487 - val_accuracy: 0.8030\n",
            "Epoch 76/110\n",
            "63/63 [==============================] - 2s 34ms/step - loss: 0.2615 - accuracy: 0.9025 - val_loss: 0.7524 - val_accuracy: 0.7950\n",
            "Epoch 77/110\n",
            "63/63 [==============================] - 2s 34ms/step - loss: 0.3915 - accuracy: 0.8540 - val_loss: 0.5411 - val_accuracy: 0.8450\n",
            "Epoch 78/110\n",
            "63/63 [==============================] - 2s 34ms/step - loss: 0.3270 - accuracy: 0.8795 - val_loss: 0.4881 - val_accuracy: 0.8280\n",
            "Epoch 79/110\n",
            "63/63 [==============================] - 2s 34ms/step - loss: 0.2577 - accuracy: 0.8990 - val_loss: 0.7479 - val_accuracy: 0.8180\n",
            "Epoch 80/110\n",
            "63/63 [==============================] - 2s 34ms/step - loss: 0.3144 - accuracy: 0.8895 - val_loss: 0.4745 - val_accuracy: 0.8140\n",
            "Epoch 81/110\n",
            "63/63 [==============================] - 2s 34ms/step - loss: 0.2467 - accuracy: 0.9025 - val_loss: 0.7934 - val_accuracy: 0.7830\n",
            "Epoch 82/110\n",
            "63/63 [==============================] - 2s 34ms/step - loss: 0.3072 - accuracy: 0.8835 - val_loss: 0.4928 - val_accuracy: 0.8350\n",
            "Epoch 83/110\n",
            "63/63 [==============================] - 2s 34ms/step - loss: 0.2653 - accuracy: 0.8975 - val_loss: 0.5695 - val_accuracy: 0.8410\n",
            "Epoch 84/110\n",
            "63/63 [==============================] - 2s 34ms/step - loss: 0.2895 - accuracy: 0.9040 - val_loss: 0.4748 - val_accuracy: 0.8200\n",
            "Epoch 85/110\n",
            "63/63 [==============================] - 2s 35ms/step - loss: 0.2663 - accuracy: 0.8910 - val_loss: 0.4249 - val_accuracy: 0.8470\n",
            "Epoch 86/110\n",
            "63/63 [==============================] - 2s 34ms/step - loss: 0.2685 - accuracy: 0.8990 - val_loss: 0.6632 - val_accuracy: 0.8230\n",
            "Epoch 87/110\n",
            "63/63 [==============================] - 2s 35ms/step - loss: 0.2842 - accuracy: 0.8950 - val_loss: 0.6060 - val_accuracy: 0.8400\n",
            "Epoch 88/110\n",
            "63/63 [==============================] - 2s 34ms/step - loss: 0.2774 - accuracy: 0.8975 - val_loss: 0.4984 - val_accuracy: 0.8400\n",
            "Epoch 89/110\n",
            "63/63 [==============================] - 2s 34ms/step - loss: 0.2362 - accuracy: 0.9015 - val_loss: 0.4251 - val_accuracy: 0.8460\n",
            "Epoch 90/110\n",
            "63/63 [==============================] - 2s 35ms/step - loss: 0.2575 - accuracy: 0.8940 - val_loss: 0.5669 - val_accuracy: 0.7850\n",
            "Epoch 91/110\n",
            "63/63 [==============================] - 2s 34ms/step - loss: 0.2991 - accuracy: 0.9005 - val_loss: 0.5150 - val_accuracy: 0.8220\n",
            "Epoch 92/110\n",
            "63/63 [==============================] - 2s 34ms/step - loss: 0.2806 - accuracy: 0.8955 - val_loss: 0.7308 - val_accuracy: 0.7400\n",
            "Epoch 93/110\n",
            "63/63 [==============================] - 2s 34ms/step - loss: 0.3172 - accuracy: 0.8810 - val_loss: 0.4522 - val_accuracy: 0.8420\n",
            "Epoch 94/110\n",
            "63/63 [==============================] - 2s 34ms/step - loss: 0.2501 - accuracy: 0.9050 - val_loss: 0.6040 - val_accuracy: 0.8360\n",
            "Epoch 95/110\n",
            "63/63 [==============================] - 2s 35ms/step - loss: 0.2680 - accuracy: 0.8930 - val_loss: 0.5423 - val_accuracy: 0.8470\n",
            "Epoch 96/110\n",
            "63/63 [==============================] - 2s 35ms/step - loss: 0.2327 - accuracy: 0.8990 - val_loss: 0.8940 - val_accuracy: 0.7990\n",
            "Epoch 97/110\n",
            "63/63 [==============================] - 2s 34ms/step - loss: 0.2708 - accuracy: 0.8975 - val_loss: 0.6763 - val_accuracy: 0.8650\n",
            "Epoch 98/110\n",
            "63/63 [==============================] - 2s 34ms/step - loss: 0.2585 - accuracy: 0.9020 - val_loss: 0.6068 - val_accuracy: 0.8420\n",
            "Epoch 99/110\n",
            "63/63 [==============================] - 2s 34ms/step - loss: 0.3197 - accuracy: 0.8920 - val_loss: 0.6397 - val_accuracy: 0.8470\n",
            "Epoch 100/110\n",
            "63/63 [==============================] - 2s 35ms/step - loss: 0.3151 - accuracy: 0.8865 - val_loss: 0.5164 - val_accuracy: 0.8520\n",
            "Epoch 101/110\n",
            "63/63 [==============================] - 2s 34ms/step - loss: 0.2766 - accuracy: 0.9035 - val_loss: 0.6775 - val_accuracy: 0.8480\n",
            "Epoch 102/110\n",
            "63/63 [==============================] - 2s 34ms/step - loss: 0.2512 - accuracy: 0.9030 - val_loss: 0.9796 - val_accuracy: 0.8150\n",
            "Epoch 103/110\n",
            "63/63 [==============================] - 2s 34ms/step - loss: 0.2584 - accuracy: 0.8995 - val_loss: 0.6992 - val_accuracy: 0.8420\n",
            "Epoch 104/110\n",
            "63/63 [==============================] - 2s 34ms/step - loss: 0.2723 - accuracy: 0.8940 - val_loss: 0.6568 - val_accuracy: 0.8360\n",
            "Epoch 105/110\n",
            "63/63 [==============================] - 2s 35ms/step - loss: 0.2596 - accuracy: 0.8990 - val_loss: 0.6626 - val_accuracy: 0.8190\n",
            "Epoch 106/110\n",
            "63/63 [==============================] - 2s 35ms/step - loss: 0.2758 - accuracy: 0.9105 - val_loss: 0.8826 - val_accuracy: 0.8390\n",
            "Epoch 107/110\n",
            "63/63 [==============================] - 2s 34ms/step - loss: 0.2726 - accuracy: 0.8960 - val_loss: 0.6425 - val_accuracy: 0.8570\n",
            "Epoch 108/110\n",
            "63/63 [==============================] - 2s 34ms/step - loss: 0.2400 - accuracy: 0.9055 - val_loss: 0.9909 - val_accuracy: 0.7980\n",
            "Epoch 109/110\n",
            "63/63 [==============================] - 2s 34ms/step - loss: 0.3015 - accuracy: 0.8855 - val_loss: 0.6490 - val_accuracy: 0.8420\n",
            "Epoch 110/110\n",
            "63/63 [==============================] - 2s 35ms/step - loss: 0.3154 - accuracy: 0.8930 - val_loss: 0.8922 - val_accuracy: 0.8190\n"
          ]
        }
      ],
      "source": [
        "callbacks = [\n",
        "    keras.callbacks.ModelCheckpoint(\n",
        "        filepath=\"convnet_from_scratch_with_augmentation.keras\",\n",
        "        save_best_only=True,\n",
        "        monitor=\"val_loss\")\n",
        "]\n",
        "history = model.fit(\n",
        "    train_dataset,\n",
        "    epochs=110,\n",
        "    validation_data=validation_dataset,\n",
        "    callbacks=callbacks)"
      ]
    },
    {
      "cell_type": "markdown",
      "metadata": {
        "id": "vhFMmsqpEI4l"
      },
      "source": [
        "**Evaluating the model on the test set**"
      ]
    },
    {
      "cell_type": "code",
      "execution_count": 45,
      "metadata": {
        "colab": {
          "base_uri": "https://localhost:8080/"
        },
        "id": "lHr3rssZEI4l",
        "outputId": "184b18db-2bbe-423f-f0c8-160e33f84eb4"
      },
      "outputs": [
        {
          "output_type": "stream",
          "name": "stdout",
          "text": [
            "63/63 [==============================] - 1s 11ms/step - loss: 0.4815 - accuracy: 0.8220\n",
            "Test accuracy: 0.822\n"
          ]
        }
      ],
      "source": [
        "test_model = keras.models.load_model(\n",
        "    \"convnet_from_scratch_with_augmentation.keras\")\n",
        "test_loss, test_acc = test_model.evaluate(test_dataset)\n",
        "print(f\"Test accuracy: {test_acc:.3f}\")"
      ]
    },
    {
      "cell_type": "markdown",
      "metadata": {
        "id": "O477yb73EI4l"
      },
      "source": [
        "## Leveraging a pretrained model"
      ]
    },
    {
      "cell_type": "markdown",
      "metadata": {
        "id": "wYEw7o4WEI4l"
      },
      "source": [
        "### Feature extraction with a pretrained model"
      ]
    },
    {
      "cell_type": "markdown",
      "metadata": {
        "id": "_OOipWR5EI4l"
      },
      "source": [
        "**Instantiating the VGG16 convolutional base**"
      ]
    },
    {
      "cell_type": "code",
      "execution_count": 46,
      "metadata": {
        "colab": {
          "base_uri": "https://localhost:8080/"
        },
        "id": "vNZuLahgEI4l",
        "outputId": "97e7b9de-b79d-4bf6-e380-52b98611abe0"
      },
      "outputs": [
        {
          "output_type": "stream",
          "name": "stdout",
          "text": [
            "Downloading data from https://storage.googleapis.com/tensorflow/keras-applications/vgg16/vgg16_weights_tf_dim_ordering_tf_kernels_notop.h5\n",
            "58889256/58889256 [==============================] - 2s 0us/step\n"
          ]
        }
      ],
      "source": [
        "conv_base = keras.applications.vgg16.VGG16(\n",
        "    weights=\"imagenet\",\n",
        "    include_top=False,\n",
        "    input_shape=(180, 180, 3))"
      ]
    },
    {
      "cell_type": "code",
      "execution_count": 47,
      "metadata": {
        "colab": {
          "base_uri": "https://localhost:8080/"
        },
        "id": "yeyjgXLoEI4l",
        "outputId": "54cc22ac-8587-4d36-be4c-815585493dc7"
      },
      "outputs": [
        {
          "output_type": "stream",
          "name": "stdout",
          "text": [
            "Model: \"vgg16\"\n",
            "_________________________________________________________________\n",
            " Layer (type)                Output Shape              Param #   \n",
            "=================================================================\n",
            " input_8 (InputLayer)        [(None, 180, 180, 3)]     0         \n",
            "                                                                 \n",
            " block1_conv1 (Conv2D)       (None, 180, 180, 64)      1792      \n",
            "                                                                 \n",
            " block1_conv2 (Conv2D)       (None, 180, 180, 64)      36928     \n",
            "                                                                 \n",
            " block1_pool (MaxPooling2D)  (None, 90, 90, 64)        0         \n",
            "                                                                 \n",
            " block2_conv1 (Conv2D)       (None, 90, 90, 128)       73856     \n",
            "                                                                 \n",
            " block2_conv2 (Conv2D)       (None, 90, 90, 128)       147584    \n",
            "                                                                 \n",
            " block2_pool (MaxPooling2D)  (None, 45, 45, 128)       0         \n",
            "                                                                 \n",
            " block3_conv1 (Conv2D)       (None, 45, 45, 256)       295168    \n",
            "                                                                 \n",
            " block3_conv2 (Conv2D)       (None, 45, 45, 256)       590080    \n",
            "                                                                 \n",
            " block3_conv3 (Conv2D)       (None, 45, 45, 256)       590080    \n",
            "                                                                 \n",
            " block3_pool (MaxPooling2D)  (None, 22, 22, 256)       0         \n",
            "                                                                 \n",
            " block4_conv1 (Conv2D)       (None, 22, 22, 512)       1180160   \n",
            "                                                                 \n",
            " block4_conv2 (Conv2D)       (None, 22, 22, 512)       2359808   \n",
            "                                                                 \n",
            " block4_conv3 (Conv2D)       (None, 22, 22, 512)       2359808   \n",
            "                                                                 \n",
            " block4_pool (MaxPooling2D)  (None, 11, 11, 512)       0         \n",
            "                                                                 \n",
            " block5_conv1 (Conv2D)       (None, 11, 11, 512)       2359808   \n",
            "                                                                 \n",
            " block5_conv2 (Conv2D)       (None, 11, 11, 512)       2359808   \n",
            "                                                                 \n",
            " block5_conv3 (Conv2D)       (None, 11, 11, 512)       2359808   \n",
            "                                                                 \n",
            " block5_pool (MaxPooling2D)  (None, 5, 5, 512)         0         \n",
            "                                                                 \n",
            "=================================================================\n",
            "Total params: 14,714,688\n",
            "Trainable params: 14,714,688\n",
            "Non-trainable params: 0\n",
            "_________________________________________________________________\n"
          ]
        }
      ],
      "source": [
        "conv_base.summary()"
      ]
    },
    {
      "cell_type": "markdown",
      "metadata": {
        "id": "TV_PFY3_EI4l"
      },
      "source": [
        "#### Fast feature extraction without data augmentation"
      ]
    },
    {
      "cell_type": "markdown",
      "metadata": {
        "id": "A7TcUiroEI4l"
      },
      "source": [
        "**Extracting the VGG16 features and corresponding labels**"
      ]
    },
    {
      "cell_type": "code",
      "execution_count": 48,
      "metadata": {
        "colab": {
          "base_uri": "https://localhost:8080/"
        },
        "id": "LrZ1PZsWEI4m",
        "outputId": "05ffc351-ca39-40b2-a3a2-8e9868e73eb6"
      },
      "outputs": [
        {
          "output_type": "stream",
          "name": "stdout",
          "text": [
            "1/1 [==============================] - 1s 696ms/step\n",
            "1/1 [==============================] - 0s 26ms/step\n",
            "1/1 [==============================] - 0s 23ms/step\n",
            "1/1 [==============================] - 0s 24ms/step\n",
            "1/1 [==============================] - 0s 26ms/step\n",
            "1/1 [==============================] - 0s 25ms/step\n",
            "1/1 [==============================] - 0s 26ms/step\n",
            "1/1 [==============================] - 0s 26ms/step\n",
            "1/1 [==============================] - 0s 25ms/step\n",
            "1/1 [==============================] - 0s 25ms/step\n",
            "1/1 [==============================] - 0s 26ms/step\n",
            "1/1 [==============================] - 0s 26ms/step\n",
            "1/1 [==============================] - 0s 27ms/step\n",
            "1/1 [==============================] - 0s 28ms/step\n",
            "1/1 [==============================] - 0s 28ms/step\n",
            "1/1 [==============================] - 0s 28ms/step\n",
            "1/1 [==============================] - 0s 28ms/step\n",
            "1/1 [==============================] - 0s 23ms/step\n",
            "1/1 [==============================] - 0s 24ms/step\n",
            "1/1 [==============================] - 0s 23ms/step\n",
            "1/1 [==============================] - 0s 23ms/step\n",
            "1/1 [==============================] - 0s 23ms/step\n",
            "1/1 [==============================] - 0s 24ms/step\n",
            "1/1 [==============================] - 0s 23ms/step\n",
            "1/1 [==============================] - 0s 24ms/step\n",
            "1/1 [==============================] - 0s 24ms/step\n",
            "1/1 [==============================] - 0s 24ms/step\n",
            "1/1 [==============================] - 0s 23ms/step\n",
            "1/1 [==============================] - 0s 22ms/step\n",
            "1/1 [==============================] - 0s 24ms/step\n",
            "1/1 [==============================] - 0s 30ms/step\n",
            "1/1 [==============================] - 0s 24ms/step\n",
            "1/1 [==============================] - 0s 23ms/step\n",
            "1/1 [==============================] - 0s 23ms/step\n",
            "1/1 [==============================] - 0s 23ms/step\n",
            "1/1 [==============================] - 0s 23ms/step\n",
            "1/1 [==============================] - 0s 24ms/step\n",
            "1/1 [==============================] - 0s 23ms/step\n",
            "1/1 [==============================] - 0s 23ms/step\n",
            "1/1 [==============================] - 0s 23ms/step\n",
            "1/1 [==============================] - 0s 24ms/step\n",
            "1/1 [==============================] - 0s 24ms/step\n",
            "1/1 [==============================] - 0s 24ms/step\n",
            "1/1 [==============================] - 0s 24ms/step\n",
            "1/1 [==============================] - 0s 24ms/step\n",
            "1/1 [==============================] - 0s 26ms/step\n",
            "1/1 [==============================] - 0s 24ms/step\n",
            "1/1 [==============================] - 0s 23ms/step\n",
            "1/1 [==============================] - 0s 23ms/step\n",
            "1/1 [==============================] - 0s 23ms/step\n",
            "1/1 [==============================] - 0s 23ms/step\n",
            "1/1 [==============================] - 0s 23ms/step\n",
            "1/1 [==============================] - 0s 23ms/step\n",
            "1/1 [==============================] - 0s 23ms/step\n",
            "1/1 [==============================] - 0s 23ms/step\n",
            "1/1 [==============================] - 0s 23ms/step\n",
            "1/1 [==============================] - 0s 24ms/step\n",
            "1/1 [==============================] - 0s 24ms/step\n",
            "1/1 [==============================] - 0s 24ms/step\n",
            "1/1 [==============================] - 0s 24ms/step\n",
            "1/1 [==============================] - 0s 23ms/step\n",
            "1/1 [==============================] - 0s 24ms/step\n",
            "1/1 [==============================] - 0s 417ms/step\n",
            "1/1 [==============================] - 0s 23ms/step\n",
            "1/1 [==============================] - 0s 22ms/step\n",
            "1/1 [==============================] - 0s 23ms/step\n",
            "1/1 [==============================] - 0s 23ms/step\n",
            "1/1 [==============================] - 0s 23ms/step\n",
            "1/1 [==============================] - 0s 23ms/step\n",
            "1/1 [==============================] - 0s 22ms/step\n",
            "1/1 [==============================] - 0s 23ms/step\n",
            "1/1 [==============================] - 0s 23ms/step\n",
            "1/1 [==============================] - 0s 23ms/step\n",
            "1/1 [==============================] - 0s 24ms/step\n",
            "1/1 [==============================] - 0s 24ms/step\n",
            "1/1 [==============================] - 0s 23ms/step\n",
            "1/1 [==============================] - 0s 26ms/step\n",
            "1/1 [==============================] - 0s 24ms/step\n",
            "1/1 [==============================] - 0s 23ms/step\n",
            "1/1 [==============================] - 0s 25ms/step\n",
            "1/1 [==============================] - 0s 23ms/step\n",
            "1/1 [==============================] - 0s 22ms/step\n",
            "1/1 [==============================] - 0s 23ms/step\n",
            "1/1 [==============================] - 0s 23ms/step\n",
            "1/1 [==============================] - 0s 23ms/step\n",
            "1/1 [==============================] - 0s 23ms/step\n",
            "1/1 [==============================] - 0s 23ms/step\n",
            "1/1 [==============================] - 0s 25ms/step\n",
            "1/1 [==============================] - 0s 23ms/step\n",
            "1/1 [==============================] - 0s 23ms/step\n",
            "1/1 [==============================] - 0s 23ms/step\n",
            "1/1 [==============================] - 0s 24ms/step\n",
            "1/1 [==============================] - 0s 23ms/step\n",
            "1/1 [==============================] - 0s 23ms/step\n",
            "1/1 [==============================] - 0s 231ms/step\n",
            "1/1 [==============================] - 0s 23ms/step\n",
            "1/1 [==============================] - 0s 23ms/step\n",
            "1/1 [==============================] - 0s 23ms/step\n",
            "1/1 [==============================] - 0s 23ms/step\n",
            "1/1 [==============================] - 0s 24ms/step\n",
            "1/1 [==============================] - 0s 24ms/step\n",
            "1/1 [==============================] - 0s 23ms/step\n",
            "1/1 [==============================] - 0s 23ms/step\n",
            "1/1 [==============================] - 0s 24ms/step\n",
            "1/1 [==============================] - 0s 23ms/step\n",
            "1/1 [==============================] - 0s 23ms/step\n",
            "1/1 [==============================] - 0s 23ms/step\n",
            "1/1 [==============================] - 0s 23ms/step\n",
            "1/1 [==============================] - 0s 26ms/step\n",
            "1/1 [==============================] - 0s 25ms/step\n",
            "1/1 [==============================] - 0s 23ms/step\n",
            "1/1 [==============================] - 0s 24ms/step\n",
            "1/1 [==============================] - 0s 23ms/step\n",
            "1/1 [==============================] - 0s 23ms/step\n",
            "1/1 [==============================] - 0s 23ms/step\n",
            "1/1 [==============================] - 0s 23ms/step\n",
            "1/1 [==============================] - 0s 23ms/step\n",
            "1/1 [==============================] - 0s 23ms/step\n",
            "1/1 [==============================] - 0s 23ms/step\n",
            "1/1 [==============================] - 0s 23ms/step\n",
            "1/1 [==============================] - 0s 25ms/step\n",
            "1/1 [==============================] - 0s 23ms/step\n",
            "1/1 [==============================] - 0s 23ms/step\n",
            "1/1 [==============================] - 0s 22ms/step\n",
            "1/1 [==============================] - 0s 23ms/step\n",
            "1/1 [==============================] - 0s 24ms/step\n",
            "1/1 [==============================] - 0s 25ms/step\n",
            "1/1 [==============================] - 0s 24ms/step\n",
            "1/1 [==============================] - 0s 24ms/step\n",
            "1/1 [==============================] - 0s 23ms/step\n",
            "1/1 [==============================] - 0s 23ms/step\n",
            "1/1 [==============================] - 0s 23ms/step\n",
            "1/1 [==============================] - 0s 23ms/step\n",
            "1/1 [==============================] - 0s 25ms/step\n",
            "1/1 [==============================] - 0s 24ms/step\n",
            "1/1 [==============================] - 0s 25ms/step\n",
            "1/1 [==============================] - 0s 24ms/step\n",
            "1/1 [==============================] - 0s 178ms/step\n",
            "1/1 [==============================] - 0s 25ms/step\n",
            "1/1 [==============================] - 0s 24ms/step\n",
            "1/1 [==============================] - 0s 24ms/step\n",
            "1/1 [==============================] - 0s 24ms/step\n",
            "1/1 [==============================] - 0s 23ms/step\n",
            "1/1 [==============================] - 0s 23ms/step\n",
            "1/1 [==============================] - 0s 24ms/step\n",
            "1/1 [==============================] - 0s 23ms/step\n",
            "1/1 [==============================] - 0s 23ms/step\n",
            "1/1 [==============================] - 0s 24ms/step\n",
            "1/1 [==============================] - 0s 23ms/step\n",
            "1/1 [==============================] - 0s 23ms/step\n",
            "1/1 [==============================] - 0s 23ms/step\n",
            "1/1 [==============================] - 0s 25ms/step\n",
            "1/1 [==============================] - 0s 26ms/step\n",
            "1/1 [==============================] - 0s 23ms/step\n",
            "1/1 [==============================] - 0s 23ms/step\n",
            "1/1 [==============================] - 0s 24ms/step\n",
            "1/1 [==============================] - 0s 24ms/step\n",
            "1/1 [==============================] - 0s 22ms/step\n"
          ]
        }
      ],
      "source": [
        "import numpy as np\n",
        "\n",
        "def get_features_and_labels(dataset):\n",
        "    all_features = []\n",
        "    all_labels = []\n",
        "    for images, labels in dataset:\n",
        "        preprocessed_images = keras.applications.vgg16.preprocess_input(images)\n",
        "        features = conv_base.predict(preprocessed_images)\n",
        "        all_features.append(features)\n",
        "        all_labels.append(labels)\n",
        "    return np.concatenate(all_features), np.concatenate(all_labels)\n",
        "\n",
        "train_features, train_labels =  get_features_and_labels(train_dataset)\n",
        "val_features, val_labels =  get_features_and_labels(validation_dataset)\n",
        "test_features, test_labels =  get_features_and_labels(test_dataset)"
      ]
    },
    {
      "cell_type": "code",
      "execution_count": 49,
      "metadata": {
        "colab": {
          "base_uri": "https://localhost:8080/"
        },
        "id": "NdBT3QBuEI4m",
        "outputId": "be99ff44-5f5e-4fc8-d4f1-330cce5fd4d2"
      },
      "outputs": [
        {
          "output_type": "execute_result",
          "data": {
            "text/plain": [
              "(2000, 5, 5, 512)"
            ]
          },
          "metadata": {},
          "execution_count": 49
        }
      ],
      "source": [
        "train_features.shape"
      ]
    },
    {
      "cell_type": "markdown",
      "metadata": {
        "id": "OaA61lm0EI4m"
      },
      "source": [
        "**Defining and training the densely connected classifier**"
      ]
    },
    {
      "cell_type": "code",
      "execution_count": 50,
      "metadata": {
        "colab": {
          "base_uri": "https://localhost:8080/"
        },
        "id": "cUl_Gq5PEI4m",
        "outputId": "aa580c72-8d99-4ba1-831a-837e6845a603"
      },
      "outputs": [
        {
          "output_type": "stream",
          "name": "stdout",
          "text": [
            "Epoch 1/20\n",
            "63/63 [==============================] - 1s 8ms/step - loss: 16.4707 - accuracy: 0.9280 - val_loss: 4.7703 - val_accuracy: 0.9630\n",
            "Epoch 2/20\n",
            "63/63 [==============================] - 0s 4ms/step - loss: 3.7031 - accuracy: 0.9710 - val_loss: 5.5397 - val_accuracy: 0.9700\n",
            "Epoch 3/20\n",
            "63/63 [==============================] - 0s 5ms/step - loss: 1.8190 - accuracy: 0.9830 - val_loss: 3.4909 - val_accuracy: 0.9720\n",
            "Epoch 4/20\n",
            "63/63 [==============================] - 0s 5ms/step - loss: 1.7632 - accuracy: 0.9875 - val_loss: 3.5627 - val_accuracy: 0.9740\n",
            "Epoch 5/20\n",
            "63/63 [==============================] - 0s 4ms/step - loss: 0.3884 - accuracy: 0.9970 - val_loss: 4.6462 - val_accuracy: 0.9710\n",
            "Epoch 6/20\n",
            "63/63 [==============================] - 0s 5ms/step - loss: 0.5186 - accuracy: 0.9960 - val_loss: 5.6463 - val_accuracy: 0.9700\n",
            "Epoch 7/20\n",
            "63/63 [==============================] - 0s 5ms/step - loss: 1.0488 - accuracy: 0.9930 - val_loss: 5.2943 - val_accuracy: 0.9690\n",
            "Epoch 8/20\n",
            "63/63 [==============================] - 0s 5ms/step - loss: 0.6559 - accuracy: 0.9950 - val_loss: 5.2512 - val_accuracy: 0.9720\n",
            "Epoch 9/20\n",
            "63/63 [==============================] - 0s 4ms/step - loss: 0.9557 - accuracy: 0.9950 - val_loss: 6.2017 - val_accuracy: 0.9700\n",
            "Epoch 10/20\n",
            "63/63 [==============================] - 0s 4ms/step - loss: 0.5094 - accuracy: 0.9955 - val_loss: 4.4558 - val_accuracy: 0.9720\n",
            "Epoch 11/20\n",
            "63/63 [==============================] - 0s 5ms/step - loss: 0.4616 - accuracy: 0.9980 - val_loss: 4.8978 - val_accuracy: 0.9730\n",
            "Epoch 12/20\n",
            "63/63 [==============================] - 0s 4ms/step - loss: 0.3176 - accuracy: 0.9970 - val_loss: 5.5696 - val_accuracy: 0.9720\n",
            "Epoch 13/20\n",
            "63/63 [==============================] - 0s 4ms/step - loss: 1.9465e-28 - accuracy: 1.0000 - val_loss: 5.5696 - val_accuracy: 0.9720\n",
            "Epoch 14/20\n",
            "63/63 [==============================] - 0s 4ms/step - loss: 8.6057e-10 - accuracy: 1.0000 - val_loss: 5.5945 - val_accuracy: 0.9710\n",
            "Epoch 15/20\n",
            "63/63 [==============================] - 0s 5ms/step - loss: 0.0748 - accuracy: 0.9990 - val_loss: 5.7154 - val_accuracy: 0.9750\n",
            "Epoch 16/20\n",
            "63/63 [==============================] - 0s 4ms/step - loss: 0.1481 - accuracy: 0.9970 - val_loss: 4.7302 - val_accuracy: 0.9760\n",
            "Epoch 17/20\n",
            "63/63 [==============================] - 0s 4ms/step - loss: 2.8580e-14 - accuracy: 1.0000 - val_loss: 4.7302 - val_accuracy: 0.9760\n",
            "Epoch 18/20\n",
            "63/63 [==============================] - 0s 4ms/step - loss: 0.2949 - accuracy: 0.9980 - val_loss: 3.9946 - val_accuracy: 0.9810\n",
            "Epoch 19/20\n",
            "63/63 [==============================] - 0s 5ms/step - loss: 0.0900 - accuracy: 0.9985 - val_loss: 4.6410 - val_accuracy: 0.9770\n",
            "Epoch 20/20\n",
            "63/63 [==============================] - 0s 4ms/step - loss: 0.1109 - accuracy: 0.9985 - val_loss: 6.2822 - val_accuracy: 0.9720\n"
          ]
        }
      ],
      "source": [
        "inputs = keras.Input(shape=(5, 5, 512))\n",
        "x = layers.Flatten()(inputs)\n",
        "x = layers.Dense(256)(x)\n",
        "x = layers.Dropout(0.5)(x)\n",
        "outputs = layers.Dense(1, activation=\"sigmoid\")(x)\n",
        "model = keras.Model(inputs, outputs)\n",
        "model.compile(loss=\"binary_crossentropy\",\n",
        "              optimizer=\"rmsprop\",\n",
        "              metrics=[\"accuracy\"])\n",
        "\n",
        "callbacks = [\n",
        "    keras.callbacks.ModelCheckpoint(\n",
        "      filepath=\"feature_extraction.keras\",\n",
        "      save_best_only=True,\n",
        "      monitor=\"val_loss\")\n",
        "]\n",
        "history = model.fit(\n",
        "    train_features, train_labels,\n",
        "    epochs=20,\n",
        "    validation_data=(val_features, val_labels),\n",
        "    callbacks=callbacks)"
      ]
    },
    {
      "cell_type": "markdown",
      "metadata": {
        "id": "lmClbOByEI4m"
      },
      "source": [
        "**Plotting the results**"
      ]
    },
    {
      "cell_type": "code",
      "execution_count": 51,
      "metadata": {
        "colab": {
          "base_uri": "https://localhost:8080/",
          "height": 545
        },
        "id": "B_eiPRV_EI4m",
        "outputId": "eb7eec47-107c-45b4-f487-d0fa33814452"
      },
      "outputs": [
        {
          "output_type": "display_data",
          "data": {
            "text/plain": [
              "<Figure size 432x288 with 1 Axes>"
            ],
            "image/png": "[encoded data removed]"
          },
          "metadata": {
            "needs_background": "light"
          }
        },
        {
          "output_type": "display_data",
          "data": {
            "text/plain": [
              "<Figure size 432x288 with 1 Axes>"
            ],
            "image/png": "[encoded data removed]"
          },
          "metadata": {
            "needs_background": "light"
          }
        }
      ],
      "source": [
        "import matplotlib.pyplot as plt\n",
        "acc = history.history[\"accuracy\"]\n",
        "val_acc = history.history[\"val_accuracy\"]\n",
        "loss = history.history[\"loss\"]\n",
        "val_loss = history.history[\"val_loss\"]\n",
        "epochs = range(1, len(acc) + 1)\n",
        "plt.plot(epochs, acc, \"bo\", label=\"Training accuracy\")\n",
        "plt.plot(epochs, val_acc, \"b\", label=\"Validation accuracy\")\n",
        "plt.title(\"Training and validation accuracy\")\n",
        "plt.legend()\n",
        "plt.figure()\n",
        "plt.plot(epochs, loss, \"bo\", label=\"Training loss\")\n",
        "plt.plot(epochs, val_loss, \"b\", label=\"Validation loss\")\n",
        "plt.title(\"Training and validation loss\")\n",
        "plt.legend()\n",
        "plt.show()"
      ]
    },
    {
      "cell_type": "markdown",
      "metadata": {
        "id": "JLnJaDVAEI4m"
      },
      "source": [
        "#### Feature extraction together with data augmentation"
      ]
    },
    {
      "cell_type": "markdown",
      "metadata": {
        "id": "mlKv-VK8EI4m"
      },
      "source": [
        "**Instantiating and freezing the VGG16 convolutional base**"
      ]
    },
    {
      "cell_type": "code",
      "execution_count": 52,
      "metadata": {
        "id": "DVJ7VLujEI4m"
      },
      "outputs": [],
      "source": [
        "conv_base  = keras.applications.vgg16.VGG16(\n",
        "    weights=\"imagenet\",\n",
        "    include_top=False)\n",
        "conv_base.trainable = False"
      ]
    },
    {
      "cell_type": "markdown",
      "metadata": {
        "id": "aiaoMbHGEI4m"
      },
      "source": [
        "**Printing the list of trainable weights before and after freezing**"
      ]
    },
    {
      "cell_type": "code",
      "execution_count": 53,
      "metadata": {
        "colab": {
          "base_uri": "https://localhost:8080/"
        },
        "id": "XgZjlLJ7EI4n",
        "outputId": "2db8c83a-5f16-4108-b1e0-26e02a549922"
      },
      "outputs": [
        {
          "output_type": "stream",
          "name": "stdout",
          "text": [
            "This is the number of trainable weights before freezing the conv base: 26\n"
          ]
        }
      ],
      "source": [
        "conv_base.trainable = True\n",
        "print(\"This is the number of trainable weights \"\n",
        "      \"before freezing the conv base:\", len(conv_base.trainable_weights))"
      ]
    },
    {
      "cell_type": "code",
      "execution_count": 54,
      "metadata": {
        "colab": {
          "base_uri": "https://localhost:8080/"
        },
        "id": "w8Z11UzqEI4n",
        "outputId": "a7631e9b-8eea-4795-8a40-38f3c8470dd8"
      },
      "outputs": [
        {
          "output_type": "stream",
          "name": "stdout",
          "text": [
            "This is the number of trainable weights after freezing the conv base: 0\n"
          ]
        }
      ],
      "source": [
        "conv_base.trainable = False\n",
        "print(\"This is the number of trainable weights \"\n",
        "      \"after freezing the conv base:\", len(conv_base.trainable_weights))"
      ]
    },
    {
      "cell_type": "markdown",
      "metadata": {
        "id": "D-2C1kQfEI4n"
      },
      "source": [
        "**Adding a data augmentation stage and a classifier to the convolutional base**"
      ]
    },
    {
      "cell_type": "code",
      "execution_count": 55,
      "metadata": {
        "id": "e8jMxbZ0EI4n"
      },
      "outputs": [],
      "source": [
        "data_augmentation = keras.Sequential(\n",
        "    [\n",
        "        layers.RandomFlip(\"horizontal\"),\n",
        "        layers.RandomRotation(0.1),\n",
        "        layers.RandomZoom(0.2),\n",
        "    ]\n",
        ")\n",
        "\n",
        "inputs = keras.Input(shape=(180, 180, 3))\n",
        "x = data_augmentation(inputs)\n",
        "x = keras.applications.vgg16.preprocess_input(x)\n",
        "x = conv_base(x)\n",
        "x = layers.Flatten()(x)\n",
        "x = layers.Dense(256)(x)\n",
        "x = layers.Dropout(0.5)(x)\n",
        "outputs = layers.Dense(1, activation=\"sigmoid\")(x)\n",
        "model = keras.Model(inputs, outputs)\n",
        "model.compile(loss=\"binary_crossentropy\",\n",
        "              optimizer=\"rmsprop\",\n",
        "              metrics=[\"accuracy\"])"
      ]
    },
    {
      "cell_type": "code",
      "execution_count": 56,
      "metadata": {
        "colab": {
          "base_uri": "https://localhost:8080/"
        },
        "id": "d6jG54ouEI4n",
        "outputId": "7a00889f-c117-4633-a381-cc4d5eee4f98"
      },
      "outputs": [
        {
          "output_type": "stream",
          "name": "stdout",
          "text": [
            "Epoch 1/55\n",
            "63/63 [==============================] - 5s 53ms/step - loss: 16.1635 - accuracy: 0.9000 - val_loss: 3.3903 - val_accuracy: 0.9660\n",
            "Epoch 2/55\n",
            "63/63 [==============================] - 3s 50ms/step - loss: 6.7746 - accuracy: 0.9440 - val_loss: 2.6134 - val_accuracy: 0.9780\n",
            "Epoch 3/55\n",
            "63/63 [==============================] - 3s 50ms/step - loss: 5.5218 - accuracy: 0.9540 - val_loss: 2.7589 - val_accuracy: 0.9820\n",
            "Epoch 4/55\n",
            "63/63 [==============================] - 3s 47ms/step - loss: 6.1566 - accuracy: 0.9550 - val_loss: 7.1897 - val_accuracy: 0.9550\n",
            "Epoch 5/55\n",
            "63/63 [==============================] - 3s 47ms/step - loss: 4.2020 - accuracy: 0.9650 - val_loss: 3.8748 - val_accuracy: 0.9750\n",
            "Epoch 6/55\n",
            "63/63 [==============================] - 3s 47ms/step - loss: 3.3060 - accuracy: 0.9705 - val_loss: 3.0969 - val_accuracy: 0.9780\n",
            "Epoch 7/55\n",
            "63/63 [==============================] - 3s 47ms/step - loss: 3.3735 - accuracy: 0.9695 - val_loss: 4.0925 - val_accuracy: 0.9730\n",
            "Epoch 8/55\n",
            "63/63 [==============================] - 3s 47ms/step - loss: 4.1100 - accuracy: 0.9685 - val_loss: 2.8419 - val_accuracy: 0.9780\n",
            "Epoch 9/55\n",
            "63/63 [==============================] - 3s 47ms/step - loss: 2.8847 - accuracy: 0.9755 - val_loss: 4.6618 - val_accuracy: 0.9750\n",
            "Epoch 10/55\n",
            "63/63 [==============================] - 3s 47ms/step - loss: 2.3383 - accuracy: 0.9795 - val_loss: 2.7715 - val_accuracy: 0.9770\n",
            "Epoch 11/55\n",
            "63/63 [==============================] - 3s 47ms/step - loss: 1.8874 - accuracy: 0.9735 - val_loss: 2.6231 - val_accuracy: 0.9780\n",
            "Epoch 12/55\n",
            "63/63 [==============================] - 3s 47ms/step - loss: 1.9103 - accuracy: 0.9780 - val_loss: 3.0016 - val_accuracy: 0.9750\n",
            "Epoch 13/55\n",
            "63/63 [==============================] - 3s 47ms/step - loss: 1.5550 - accuracy: 0.9790 - val_loss: 8.7567 - val_accuracy: 0.9520\n",
            "Epoch 14/55\n",
            "63/63 [==============================] - 3s 47ms/step - loss: 1.3463 - accuracy: 0.9840 - val_loss: 2.6561 - val_accuracy: 0.9800\n",
            "Epoch 15/55\n",
            "63/63 [==============================] - 3s 50ms/step - loss: 1.2861 - accuracy: 0.9820 - val_loss: 2.5995 - val_accuracy: 0.9790\n",
            "Epoch 16/55\n",
            "63/63 [==============================] - 3s 50ms/step - loss: 1.1861 - accuracy: 0.9890 - val_loss: 2.0697 - val_accuracy: 0.9800\n",
            "Epoch 17/55\n",
            "63/63 [==============================] - 3s 47ms/step - loss: 1.8264 - accuracy: 0.9800 - val_loss: 2.4217 - val_accuracy: 0.9770\n",
            "Epoch 18/55\n",
            "63/63 [==============================] - 3s 47ms/step - loss: 1.1738 - accuracy: 0.9790 - val_loss: 3.2990 - val_accuracy: 0.9780\n",
            "Epoch 19/55\n",
            "63/63 [==============================] - 3s 47ms/step - loss: 1.7608 - accuracy: 0.9780 - val_loss: 2.2159 - val_accuracy: 0.9760\n",
            "Epoch 20/55\n",
            "63/63 [==============================] - 3s 47ms/step - loss: 1.0900 - accuracy: 0.9870 - val_loss: 2.5299 - val_accuracy: 0.9760\n",
            "Epoch 21/55\n",
            "63/63 [==============================] - 3s 47ms/step - loss: 1.3957 - accuracy: 0.9820 - val_loss: 2.7454 - val_accuracy: 0.9790\n",
            "Epoch 22/55\n",
            "63/63 [==============================] - 3s 51ms/step - loss: 1.5520 - accuracy: 0.9805 - val_loss: 1.9190 - val_accuracy: 0.9780\n",
            "Epoch 23/55\n",
            "63/63 [==============================] - 3s 47ms/step - loss: 0.9903 - accuracy: 0.9850 - val_loss: 3.3155 - val_accuracy: 0.9770\n",
            "Epoch 24/55\n",
            "63/63 [==============================] - 3s 47ms/step - loss: 1.3450 - accuracy: 0.9795 - val_loss: 2.9088 - val_accuracy: 0.9740\n",
            "Epoch 25/55\n",
            "63/63 [==============================] - 3s 51ms/step - loss: 0.9304 - accuracy: 0.9860 - val_loss: 1.9056 - val_accuracy: 0.9740\n",
            "Epoch 26/55\n",
            "63/63 [==============================] - 3s 50ms/step - loss: 0.8307 - accuracy: 0.9810 - val_loss: 1.5803 - val_accuracy: 0.9790\n",
            "Epoch 27/55\n",
            "63/63 [==============================] - 3s 47ms/step - loss: 0.9155 - accuracy: 0.9835 - val_loss: 1.7712 - val_accuracy: 0.9820\n",
            "Epoch 28/55\n",
            "63/63 [==============================] - 3s 50ms/step - loss: 0.5930 - accuracy: 0.9865 - val_loss: 1.7496 - val_accuracy: 0.9800\n",
            "Epoch 29/55\n",
            "63/63 [==============================] - 3s 47ms/step - loss: 0.7906 - accuracy: 0.9850 - val_loss: 1.6546 - val_accuracy: 0.9820\n",
            "Epoch 30/55\n",
            "63/63 [==============================] - 3s 50ms/step - loss: 0.5129 - accuracy: 0.9890 - val_loss: 1.3581 - val_accuracy: 0.9820\n",
            "Epoch 31/55\n",
            "63/63 [==============================] - 3s 47ms/step - loss: 0.6800 - accuracy: 0.9875 - val_loss: 1.8091 - val_accuracy: 0.9780\n",
            "Epoch 32/55\n",
            "63/63 [==============================] - 3s 51ms/step - loss: 0.5396 - accuracy: 0.9870 - val_loss: 1.1453 - val_accuracy: 0.9830\n",
            "Epoch 33/55\n",
            "63/63 [==============================] - 3s 47ms/step - loss: 0.6164 - accuracy: 0.9850 - val_loss: 3.1822 - val_accuracy: 0.9730\n",
            "Epoch 34/55\n",
            "63/63 [==============================] - 3s 47ms/step - loss: 0.9233 - accuracy: 0.9825 - val_loss: 1.4031 - val_accuracy: 0.9820\n",
            "Epoch 35/55\n",
            "63/63 [==============================] - 3s 47ms/step - loss: 0.5896 - accuracy: 0.9860 - val_loss: 1.3155 - val_accuracy: 0.9850\n",
            "Epoch 36/55\n",
            "63/63 [==============================] - 3s 47ms/step - loss: 0.2544 - accuracy: 0.9915 - val_loss: 1.5602 - val_accuracy: 0.9830\n",
            "Epoch 37/55\n",
            "63/63 [==============================] - 3s 47ms/step - loss: 0.5411 - accuracy: 0.9890 - val_loss: 1.8986 - val_accuracy: 0.9800\n",
            "Epoch 38/55\n",
            "63/63 [==============================] - 3s 47ms/step - loss: 0.6227 - accuracy: 0.9865 - val_loss: 1.9256 - val_accuracy: 0.9800\n",
            "Epoch 39/55\n",
            "63/63 [==============================] - 3s 47ms/step - loss: 0.6679 - accuracy: 0.9860 - val_loss: 1.6463 - val_accuracy: 0.9790\n",
            "Epoch 40/55\n",
            "63/63 [==============================] - 3s 47ms/step - loss: 0.5610 - accuracy: 0.9860 - val_loss: 1.7241 - val_accuracy: 0.9770\n",
            "Epoch 41/55\n",
            "63/63 [==============================] - 3s 47ms/step - loss: 0.7996 - accuracy: 0.9855 - val_loss: 2.0493 - val_accuracy: 0.9760\n",
            "Epoch 42/55\n",
            "63/63 [==============================] - 3s 47ms/step - loss: 0.5003 - accuracy: 0.9895 - val_loss: 2.1631 - val_accuracy: 0.9760\n",
            "Epoch 43/55\n",
            "63/63 [==============================] - 3s 47ms/step - loss: 0.7918 - accuracy: 0.9875 - val_loss: 1.7535 - val_accuracy: 0.9770\n",
            "Epoch 44/55\n",
            "63/63 [==============================] - 3s 47ms/step - loss: 0.3487 - accuracy: 0.9890 - val_loss: 1.5940 - val_accuracy: 0.9830\n",
            "Epoch 45/55\n",
            "63/63 [==============================] - 3s 46ms/step - loss: 0.5449 - accuracy: 0.9885 - val_loss: 2.1258 - val_accuracy: 0.9810\n",
            "Epoch 46/55\n",
            "63/63 [==============================] - 3s 47ms/step - loss: 0.5786 - accuracy: 0.9840 - val_loss: 2.7359 - val_accuracy: 0.9720\n",
            "Epoch 47/55\n",
            "63/63 [==============================] - 3s 47ms/step - loss: 0.4421 - accuracy: 0.9905 - val_loss: 2.2570 - val_accuracy: 0.9760\n",
            "Epoch 48/55\n",
            "63/63 [==============================] - 3s 47ms/step - loss: 0.4112 - accuracy: 0.9890 - val_loss: 2.0110 - val_accuracy: 0.9770\n",
            "Epoch 49/55\n",
            "63/63 [==============================] - 3s 47ms/step - loss: 0.3819 - accuracy: 0.9910 - val_loss: 1.9019 - val_accuracy: 0.9780\n",
            "Epoch 50/55\n",
            "63/63 [==============================] - 3s 47ms/step - loss: 0.5257 - accuracy: 0.9910 - val_loss: 2.3889 - val_accuracy: 0.9730\n",
            "Epoch 51/55\n",
            "63/63 [==============================] - 3s 47ms/step - loss: 0.5881 - accuracy: 0.9880 - val_loss: 2.1743 - val_accuracy: 0.9770\n",
            "Epoch 52/55\n",
            "63/63 [==============================] - 3s 47ms/step - loss: 0.5960 - accuracy: 0.9870 - val_loss: 1.8028 - val_accuracy: 0.9810\n",
            "Epoch 53/55\n",
            "63/63 [==============================] - 3s 47ms/step - loss: 0.6484 - accuracy: 0.9870 - val_loss: 2.7675 - val_accuracy: 0.9690\n",
            "Epoch 54/55\n",
            "63/63 [==============================] - 3s 47ms/step - loss: 0.5735 - accuracy: 0.9845 - val_loss: 1.6700 - val_accuracy: 0.9780\n",
            "Epoch 55/55\n",
            "63/63 [==============================] - 3s 47ms/step - loss: 0.3040 - accuracy: 0.9915 - val_loss: 2.1105 - val_accuracy: 0.9780\n"
          ]
        }
      ],
      "source": [
        "callbacks = [\n",
        "    keras.callbacks.ModelCheckpoint(\n",
        "        filepath=\"feature_extraction_with_data_augmentation.keras\",\n",
        "        save_best_only=True,\n",
        "        monitor=\"val_loss\")\n",
        "]\n",
        "history = model.fit(\n",
        "    train_dataset,\n",
        "    epochs=55,\n",
        "    validation_data=validation_dataset,\n",
        "    callbacks=callbacks)"
      ]
    },
    {
      "cell_type": "markdown",
      "metadata": {
        "id": "0Kul7fvZEI4n"
      },
      "source": [
        "**Evaluating the model on the test set**"
      ]
    },
    {
      "cell_type": "code",
      "execution_count": 57,
      "metadata": {
        "colab": {
          "base_uri": "https://localhost:8080/"
        },
        "id": "eGdCtoUjEI4n",
        "outputId": "1d1450bb-f5ec-4383-a5aa-56d39579034c"
      },
      "outputs": [
        {
          "output_type": "stream",
          "name": "stdout",
          "text": [
            "63/63 [==============================] - 2s 21ms/step - loss: 2.0477 - accuracy: 0.9755\n",
            "Test accuracy: 0.975\n"
          ]
        }
      ],
      "source": [
        "test_model = keras.models.load_model(\n",
        "    \"feature_extraction_with_data_augmentation.keras\")\n",
        "test_loss, test_acc = test_model.evaluate(test_dataset)\n",
        "print(f\"Test accuracy: {test_acc:.3f}\")"
      ]
    },
    {
      "cell_type": "markdown",
      "metadata": {
        "id": "NfKzB7SlEI4o"
      },
      "source": [
        "### Fine-tuning a pretrained model"
      ]
    },
    {
      "cell_type": "code",
      "execution_count": 58,
      "metadata": {
        "colab": {
          "base_uri": "https://localhost:8080/"
        },
        "id": "0szo7Z5ZEI4o",
        "outputId": "8de72e34-e557-40c3-aa05-2a397a9d453c"
      },
      "outputs": [
        {
          "output_type": "stream",
          "name": "stdout",
          "text": [
            "Model: \"vgg16\"\n",
            "_________________________________________________________________\n",
            " Layer (type)                Output Shape              Param #   \n",
            "=================================================================\n",
            " input_10 (InputLayer)       [(None, None, None, 3)]   0         \n",
            "                                                                 \n",
            " block1_conv1 (Conv2D)       (None, None, None, 64)    1792      \n",
            "                                                                 \n",
            " block1_conv2 (Conv2D)       (None, None, None, 64)    36928     \n",
            "                                                                 \n",
            " block1_pool (MaxPooling2D)  (None, None, None, 64)    0         \n",
            "                                                                 \n",
            " block2_conv1 (Conv2D)       (None, None, None, 128)   73856     \n",
            "                                                                 \n",
            " block2_conv2 (Conv2D)       (None, None, None, 128)   147584    \n",
            "                                                                 \n",
            " block2_pool (MaxPooling2D)  (None, None, None, 128)   0         \n",
            "                                                                 \n",
            " block3_conv1 (Conv2D)       (None, None, None, 256)   295168    \n",
            "                                                                 \n",
            " block3_conv2 (Conv2D)       (None, None, None, 256)   590080    \n",
            "                                                                 \n",
            " block3_conv3 (Conv2D)       (None, None, None, 256)   590080    \n",
            "                                                                 \n",
            " block3_pool (MaxPooling2D)  (None, None, None, 256)   0         \n",
            "                                                                 \n",
            " block4_conv1 (Conv2D)       (None, None, None, 512)   1180160   \n",
            "                                                                 \n",
            " block4_conv2 (Conv2D)       (None, None, None, 512)   2359808   \n",
            "                                                                 \n",
            " block4_conv3 (Conv2D)       (None, None, None, 512)   2359808   \n",
            "                                                                 \n",
            " block4_pool (MaxPooling2D)  (None, None, None, 512)   0         \n",
            "                                                                 \n",
            " block5_conv1 (Conv2D)       (None, None, None, 512)   2359808   \n",
            "                                                                 \n",
            " block5_conv2 (Conv2D)       (None, None, None, 512)   2359808   \n",
            "                                                                 \n",
            " block5_conv3 (Conv2D)       (None, None, None, 512)   2359808   \n",
            "                                                                 \n",
            " block5_pool (MaxPooling2D)  (None, None, None, 512)   0         \n",
            "                                                                 \n",
            "=================================================================\n",
            "Total params: 14,714,688\n",
            "Trainable params: 0\n",
            "Non-trainable params: 14,714,688\n",
            "_________________________________________________________________\n"
          ]
        }
      ],
      "source": [
        "conv_base.summary()"
      ]
    },
    {
      "cell_type": "markdown",
      "metadata": {
        "id": "61MKYjL7EI4o"
      },
      "source": [
        "**Freezing all layers until the fourth from the last**"
      ]
    },
    {
      "cell_type": "code",
      "execution_count": 59,
      "metadata": {
        "id": "URh6xMYnEI4o"
      },
      "outputs": [],
      "source": [
        "conv_base.trainable = True\n",
        "for layer in conv_base.layers[:-4]:\n",
        "    layer.trainable = False"
      ]
    },
    {
      "cell_type": "markdown",
      "metadata": {
        "id": "kjelWYi0EI4o"
      },
      "source": [
        "**Fine-tuning the model**"
      ]
    },
    {
      "cell_type": "code",
      "execution_count": 60,
      "metadata": {
        "colab": {
          "base_uri": "https://localhost:8080/"
        },
        "id": "yBdjSbmFEI4o",
        "outputId": "7852239c-30b6-4fb1-96ab-078453cf77cf"
      },
      "outputs": [
        {
          "output_type": "stream",
          "name": "stdout",
          "text": [
            "Epoch 1/35\n",
            "63/63 [==============================] - 5s 56ms/step - loss: 0.4140 - accuracy: 0.9895 - val_loss: 1.7953 - val_accuracy: 0.9820\n",
            "Epoch 2/35\n",
            "63/63 [==============================] - 3s 54ms/step - loss: 0.3854 - accuracy: 0.9885 - val_loss: 1.6959 - val_accuracy: 0.9800\n",
            "Epoch 3/35\n",
            "63/63 [==============================] - 3s 50ms/step - loss: 0.4395 - accuracy: 0.9905 - val_loss: 1.7653 - val_accuracy: 0.9820\n",
            "Epoch 4/35\n",
            "63/63 [==============================] - 3s 49ms/step - loss: 0.2695 - accuracy: 0.9935 - val_loss: 1.9174 - val_accuracy: 0.9770\n",
            "Epoch 5/35\n",
            "63/63 [==============================] - 3s 49ms/step - loss: 0.3503 - accuracy: 0.9890 - val_loss: 1.7013 - val_accuracy: 0.9820\n",
            "Epoch 6/35\n",
            "63/63 [==============================] - 3s 53ms/step - loss: 0.3481 - accuracy: 0.9910 - val_loss: 1.4404 - val_accuracy: 0.9820\n",
            "Epoch 7/35\n",
            "63/63 [==============================] - 3s 53ms/step - loss: 0.2572 - accuracy: 0.9925 - val_loss: 1.1006 - val_accuracy: 0.9840\n",
            "Epoch 8/35\n",
            "63/63 [==============================] - 3s 49ms/step - loss: 0.2619 - accuracy: 0.9955 - val_loss: 1.6171 - val_accuracy: 0.9780\n",
            "Epoch 9/35\n",
            "63/63 [==============================] - 3s 49ms/step - loss: 0.1551 - accuracy: 0.9930 - val_loss: 1.7692 - val_accuracy: 0.9770\n",
            "Epoch 10/35\n",
            "63/63 [==============================] - 3s 49ms/step - loss: 0.2063 - accuracy: 0.9925 - val_loss: 1.1783 - val_accuracy: 0.9830\n",
            "Epoch 11/35\n",
            "63/63 [==============================] - 3s 49ms/step - loss: 0.2090 - accuracy: 0.9930 - val_loss: 1.5089 - val_accuracy: 0.9800\n",
            "Epoch 12/35\n",
            "63/63 [==============================] - 3s 49ms/step - loss: 0.2397 - accuracy: 0.9920 - val_loss: 1.4494 - val_accuracy: 0.9810\n",
            "Epoch 13/35\n",
            "63/63 [==============================] - 3s 49ms/step - loss: 0.1980 - accuracy: 0.9925 - val_loss: 1.2669 - val_accuracy: 0.9840\n",
            "Epoch 14/35\n",
            "63/63 [==============================] - 3s 49ms/step - loss: 0.0582 - accuracy: 0.9965 - val_loss: 1.3459 - val_accuracy: 0.9810\n",
            "Epoch 15/35\n",
            "63/63 [==============================] - 3s 49ms/step - loss: 0.0622 - accuracy: 0.9965 - val_loss: 1.3885 - val_accuracy: 0.9830\n",
            "Epoch 16/35\n",
            "63/63 [==============================] - 3s 49ms/step - loss: 0.1473 - accuracy: 0.9950 - val_loss: 1.8107 - val_accuracy: 0.9800\n",
            "Epoch 17/35\n",
            "63/63 [==============================] - 3s 49ms/step - loss: 0.1467 - accuracy: 0.9945 - val_loss: 1.4018 - val_accuracy: 0.9820\n",
            "Epoch 18/35\n",
            "63/63 [==============================] - 3s 49ms/step - loss: 0.1145 - accuracy: 0.9980 - val_loss: 1.6034 - val_accuracy: 0.9810\n",
            "Epoch 19/35\n",
            "63/63 [==============================] - 3s 49ms/step - loss: 0.1785 - accuracy: 0.9965 - val_loss: 1.9993 - val_accuracy: 0.9780\n",
            "Epoch 20/35\n",
            "63/63 [==============================] - 3s 49ms/step - loss: 0.1734 - accuracy: 0.9955 - val_loss: 1.3066 - val_accuracy: 0.9820\n",
            "Epoch 21/35\n",
            "63/63 [==============================] - 3s 49ms/step - loss: 0.1972 - accuracy: 0.9955 - val_loss: 1.7724 - val_accuracy: 0.9720\n",
            "Epoch 22/35\n",
            "63/63 [==============================] - 3s 53ms/step - loss: 0.1999 - accuracy: 0.9945 - val_loss: 1.0986 - val_accuracy: 0.9790\n",
            "Epoch 23/35\n",
            "63/63 [==============================] - 3s 53ms/step - loss: 0.1122 - accuracy: 0.9965 - val_loss: 1.0074 - val_accuracy: 0.9870\n",
            "Epoch 24/35\n",
            "63/63 [==============================] - 3s 49ms/step - loss: 0.1407 - accuracy: 0.9950 - val_loss: 1.4488 - val_accuracy: 0.9790\n",
            "Epoch 25/35\n",
            "63/63 [==============================] - 3s 49ms/step - loss: 0.1286 - accuracy: 0.9965 - val_loss: 1.2936 - val_accuracy: 0.9840\n",
            "Epoch 26/35\n",
            "63/63 [==============================] - 3s 49ms/step - loss: 0.1254 - accuracy: 0.9980 - val_loss: 1.3934 - val_accuracy: 0.9820\n",
            "Epoch 27/35\n",
            "63/63 [==============================] - 3s 49ms/step - loss: 0.0059 - accuracy: 0.9995 - val_loss: 1.2108 - val_accuracy: 0.9860\n",
            "Epoch 28/35\n",
            "63/63 [==============================] - 3s 49ms/step - loss: 0.1181 - accuracy: 0.9955 - val_loss: 1.8523 - val_accuracy: 0.9760\n",
            "Epoch 29/35\n",
            "63/63 [==============================] - 3s 49ms/step - loss: 0.1413 - accuracy: 0.9935 - val_loss: 1.2999 - val_accuracy: 0.9830\n",
            "Epoch 30/35\n",
            "63/63 [==============================] - 3s 49ms/step - loss: 0.0864 - accuracy: 0.9960 - val_loss: 1.2744 - val_accuracy: 0.9830\n",
            "Epoch 31/35\n",
            "63/63 [==============================] - 3s 49ms/step - loss: 0.0067 - accuracy: 0.9995 - val_loss: 1.4953 - val_accuracy: 0.9810\n",
            "Epoch 32/35\n",
            "63/63 [==============================] - 3s 49ms/step - loss: 0.0372 - accuracy: 0.9975 - val_loss: 1.2155 - val_accuracy: 0.9810\n",
            "Epoch 33/35\n",
            "63/63 [==============================] - 3s 49ms/step - loss: 0.0516 - accuracy: 0.9970 - val_loss: 1.1562 - val_accuracy: 0.9840\n",
            "Epoch 34/35\n",
            "63/63 [==============================] - 3s 49ms/step - loss: 0.0836 - accuracy: 0.9970 - val_loss: 1.2716 - val_accuracy: 0.9870\n",
            "Epoch 35/35\n",
            "63/63 [==============================] - 3s 49ms/step - loss: 0.1710 - accuracy: 0.9945 - val_loss: 1.0139 - val_accuracy: 0.9860\n"
          ]
        }
      ],
      "source": [
        "model.compile(loss=\"binary_crossentropy\",\n",
        "              optimizer=keras.optimizers.RMSprop(learning_rate=1e-5),\n",
        "              metrics=[\"accuracy\"])\n",
        "\n",
        "callbacks = [\n",
        "    keras.callbacks.ModelCheckpoint(\n",
        "        filepath=\"fine_tuning.keras\",\n",
        "        save_best_only=True,\n",
        "        monitor=\"val_loss\")\n",
        "]\n",
        "history = model.fit(\n",
        "    train_dataset,\n",
        "    epochs=35,\n",
        "    validation_data=validation_dataset,\n",
        "    callbacks=callbacks)"
      ]
    },
    {
      "cell_type": "code",
      "execution_count": 61,
      "metadata": {
        "colab": {
          "base_uri": "https://localhost:8080/"
        },
        "id": "Fzpj3KINEI4o",
        "outputId": "6e07b628-3c38-4ff4-cf46-2dde7fdba222"
      },
      "outputs": [
        {
          "output_type": "stream",
          "name": "stdout",
          "text": [
            "63/63 [==============================] - 2s 21ms/step - loss: 1.4813 - accuracy: 0.9755\n",
            "Test accuracy: 0.975\n"
          ]
        }
      ],
      "source": [
        "model = keras.models.load_model(\"fine_tuning.keras\")\n",
        "test_loss, test_acc = model.evaluate(test_dataset)\n",
        "print(f\"Test accuracy: {test_acc:.3f}\")"
      ]
    },
    {
      "cell_type": "markdown",
      "metadata": {
        "id": "6A4NUvciEI4o"
      },
      "source": [
        "## Summary"
      ]
    }
  ],
  "metadata": {
    "colab": {
      "collapsed_sections": [],
      "name": "chapter08_intro-to-dl-for-computer-vision.i",
      "provenance": [],
      "toc_visible": true,
      "machine_shape": "hm"
    },
    "kernelspec": {
      "display_name": "Python 3",
      "language": "python",
      "name": "python3"
    },
    "language_info": {
      "codemirror_mode": {
        "name": "ipython",
        "version": 3
      },
      "file_extension": ".py",
      "mimetype": "text/x-python",
      "name": "python",
      "nbconvert_exporter": "python",
      "pygments_lexer": "ipython3",
      "version": "3.7.0"
    },
    "accelerator": "GPU",
    "gpuClass": "premium"
  },
  "nbformat": 4,
  "nbformat_minor": 0
}